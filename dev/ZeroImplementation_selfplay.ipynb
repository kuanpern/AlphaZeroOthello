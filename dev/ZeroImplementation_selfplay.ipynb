{
 "cells": [
  {
   "cell_type": "markdown",
   "metadata": {},
   "source": [
    "## AlphaZero Implementation\n",
    "self play full game"
   ]
  },
  {
   "cell_type": "code",
   "execution_count": 1,
   "metadata": {},
   "outputs": [],
   "source": [
    "import warnings; warnings.simplefilter('ignore')"
   ]
  },
  {
   "cell_type": "markdown",
   "metadata": {},
   "source": [
    "#### Import common library"
   ]
  },
  {
   "cell_type": "code",
   "execution_count": 2,
   "metadata": {},
   "outputs": [],
   "source": [
    "import torch\n",
    "import time\n",
    "import shlex\n",
    "import hashlib\n",
    "from collections import defaultdict\n",
    "import numpy as np\n",
    "import dill\n",
    "import random"
   ]
  },
  {
   "cell_type": "code",
   "execution_count": 3,
   "metadata": {},
   "outputs": [],
   "source": [
    "import matplotlib.pyplot as plt\n",
    "%matplotlib inline"
   ]
  },
  {
   "cell_type": "markdown",
   "metadata": {},
   "source": [
    "#### Import MCTS library"
   ]
  },
  {
   "cell_type": "code",
   "execution_count": 4,
   "metadata": {},
   "outputs": [],
   "source": [
    "from MCTS.utils import *\n",
    "from MCTS.Agent import *\n",
    "from MCTS.MCTS import *"
   ]
  },
  {
   "cell_type": "markdown",
   "metadata": {},
   "source": [
    "#### Import game rules"
   ]
  },
  {
   "cell_type": "code",
   "execution_count": 5,
   "metadata": {},
   "outputs": [],
   "source": [
    "import rules.Othello as Othello\n",
    "# shorthands\n",
    "OthelloGame   = Othello.OthelloGame   \n",
    "OthelloHelper = Othello.OthelloHelper"
   ]
  },
  {
   "cell_type": "markdown",
   "metadata": {},
   "source": [
    "#### Define hyperparameters"
   ]
  },
  {
   "cell_type": "code",
   "execution_count": 6,
   "metadata": {},
   "outputs": [],
   "source": [
    "# MCTS search related\n",
    "c = 1.2\n",
    "allowed_time = 1\n",
    "\n",
    "# Game specific\n",
    "state_memory_n = 1\n",
    "board_size = [8, 8]"
   ]
  },
  {
   "cell_type": "markdown",
   "metadata": {},
   "source": [
    "#### Import and implement data structure for the game"
   ]
  },
  {
   "cell_type": "code",
   "execution_count": 7,
   "metadata": {},
   "outputs": [],
   "source": [
    "class OthelloDataNode(ZeroDataNode):\n",
    "    def __init__(self, name, Game=OthelloGame, player=1):\n",
    "        super().__init__(Game=Game, name=name, player=player)\n",
    "    # end def\n",
    "# end class"
   ]
  },
  {
   "cell_type": "markdown",
   "metadata": {},
   "source": [
    "#### Import a pre-trained model (on human expert dataset)"
   ]
  },
  {
   "cell_type": "code",
   "execution_count": 8,
   "metadata": {},
   "outputs": [],
   "source": [
    "class Net(torch.nn.Module):\n",
    "    def __init__(self):\n",
    "        super().__init__()\n",
    "        # define functionals\n",
    "        self.fc1     = torch.nn.Linear(64, 100)\n",
    "        self.norm1   = torch.nn.BatchNorm1d(100)\n",
    "        self.relu1   = torch.nn.ReLU()\n",
    "        self.fc2     = torch.nn.Linear(100, 62)\n",
    "        self.softmax = torch.nn.Softmax()\n",
    "        self.sigmoid = torch.nn.Sigmoid()\n",
    "    # end def\n",
    "    \n",
    "    def forward(self, x):\n",
    "        out = self.fc1(x)\n",
    "        out = self.norm1(out)\n",
    "        out = self.relu1(out)\n",
    "        out = self.fc2(out)\n",
    "        out_p, out_v = torch.split(out, (61, 1), 1)\n",
    "        out_p = self.softmax(out_p)\n",
    "        out_v = self.sigmoid(out_v)\n",
    "        out = torch.cat((out_p, out_v), 1)\n",
    "        return out\n",
    "    # end def\n",
    "# end class\n",
    "\n",
    "model_file = 'expert_prediction/data/models/oth_exp_pred-iter03500.dill'\n",
    "with open(model_file, 'rb') as fin:\n",
    "    net = dill.load(fin)\n",
    "# end with\n",
    "\n",
    "# copy to cpu and makes to evaluation mode\n",
    "net = net.cpu().eval()"
   ]
  },
  {
   "cell_type": "markdown",
   "metadata": {},
   "source": [
    "#### wrap the neuralnet in a predictor"
   ]
  },
  {
   "cell_type": "code",
   "execution_count": 9,
   "metadata": {},
   "outputs": [],
   "source": [
    "def parse_move_probs(move_probs):\n",
    "    '''parse neuralnet output to dict of vector'''\n",
    "    label2move = {0: [0, 0], 1: [0, 1], 2: [0, 2], 3: [0, 3], 4: [0, 4], 5: [0, 5], 6: [0, 6], \n",
    "                  7: [0, 7], 8: [1, 0], 9: [1, 1], 10: [1, 2], 11: [1, 3], 12: [1, 4], 13: [1, 5], \n",
    "                  14: [1, 6], 15: [1, 7], 16: [2, 0], 17: [2, 1], 18: [2, 2], 19: [2, 3], 20: [2, 4], \n",
    "                  21: [2, 5], 22: [2, 6], 23: [2, 7], 24: [3, 0], 25: [3, 1], 26: [3, 2], 27: [3, 5], \n",
    "                  28: [3, 6], 29: [3, 7], 30: [4, 0], 31: [4, 1], 32: [4, 2], 33: [4, 5], 34: [4, 6], \n",
    "                  35: [4, 7], 36: [5, 0], 37: [5, 1], 38: [5, 2], 39: [5, 3], 40: [5, 4], 41: [5, 5], \n",
    "                  42: [5, 6], 43: [5, 7], 44: [6, 0], 45: [6, 1], 46: [6, 2], 47: [6, 3], 48: [6, 4], \n",
    "                  49: [6, 5], 50: [6, 6], 51: [6, 7], 52: [7, 0], 53: [7, 1], 54: [7, 2], 55: [7, 3], \n",
    "                  56: [7, 4], 57: [7, 5], 58: [7, 6], 59: [7, 7], 60: 'PASS'}\n",
    "    move2label = {tuple(q): p for p, q in label2move.items()}\n",
    "\n",
    "    z = copy.deepcopy(move_probs)\n",
    "    z = {tuple(label2move[i]): z[i] for i in range(len(z))}\n",
    "    z['PASS'] = z.pop(tuple('PASS'))\n",
    "    return z\n",
    "# end def\n",
    "\n",
    "def nnet_pred(state_in):\n",
    "    # TODO: currently only for black\n",
    "    state_in = state_in[-1] # Othello uses only last step\n",
    "    data_in = state_in.data.flatten()\n",
    "    \n",
    "    # assume white's strategy is the same as black\n",
    "    data_in = data_in * state_in.player\n",
    "    \n",
    "    # call the net for prediction\n",
    "    net_outputs = net(torch.from_numpy(np.array([data_in])).float())[0].detach().numpy()\n",
    "    # split into move prob and winner pred\n",
    "    P, v = net_outputs[:-1], net_outputs[-1] #np.split(net_outputs, [len(net_outputs)-1, ])    \n",
    "    P = parse_move_probs(P)\n",
    "    return P, v\n",
    "# end def"
   ]
  },
  {
   "cell_type": "markdown",
   "metadata": {},
   "source": [
    "#### Strategy to choose next move"
   ]
  },
  {
   "cell_type": "code",
   "execution_count": null,
   "metadata": {},
   "outputs": [],
   "source": [
    "def choose_next_move(node, temperature = 1):\n",
    "    n = sum(node.N.values())\n",
    "    exponent = 1. / temperature\n",
    "\n",
    "    temp = [[val**exponent/n**exponent, key] for key, val in node.N.items()]\n",
    "    _sum = 0\n",
    "    r = random.random()\n",
    "    sel = temp[-1][1]\n",
    "    for i in range(len(temp)):\n",
    "        _sum += temp[i][0]\n",
    "        if _sum >= r:\n",
    "            sel = temp[i][1]\n",
    "            break\n",
    "        # end if\n",
    "    # end for\n",
    "    \n",
    "    return node.child_dict[sel]\n",
    "# end def"
   ]
  },
  {
   "cell_type": "markdown",
   "metadata": {},
   "source": [
    "#### Define exit conditions"
   ]
  },
  {
   "cell_type": "code",
   "execution_count": null,
   "metadata": {},
   "outputs": [],
   "source": [
    "def exit_cond(time0, time_thr):\n",
    "    # time based\n",
    "    if time.time() - time0 > time_thr:\n",
    "        return True\n",
    "    # end if\n",
    "    \n",
    "    # winning prob based\n",
    "    # TODO\n",
    "# end def"
   ]
  },
  {
   "cell_type": "markdown",
   "metadata": {},
   "source": [
    "#### Main logic"
   ]
  },
  {
   "cell_type": "code",
   "execution_count": null,
   "metadata": {},
   "outputs": [],
   "source": [
    "def start_mcts(node, allowed_time):\n",
    "    assert node.parent is None\n",
    "    winner_value_dict = {1: 1, -1: 0, 0: 0.5}\n",
    "\n",
    "    _iter = 0\n",
    "    time0 = time.time()\n",
    "    while True:\n",
    "        _iter += 1\n",
    "        if _iter % 100 == 0:\n",
    "            pass\n",
    "            #print('iteration: %d' % (_iter,))\n",
    "        # end if\n",
    "        \n",
    "        # check exit condition\n",
    "        if exit_cond(time0, allowed_time):\n",
    "            #print('iteration: %d' % (_iter,))\n",
    "            break\n",
    "        # end if\n",
    "\n",
    "        # dynamically expand the tree - search for first un-expanded node\n",
    "        player = node.player\n",
    "        det_end_game = False\n",
    "        while True:\n",
    "            # if end game, break loop and proceed to backprop\n",
    "            _winner = OthelloGame.get_winner(node.state)\n",
    "            if _winner is not None:\n",
    "                det_end_game = True\n",
    "                break\n",
    "            # end if\n",
    "            \n",
    "            # exit loop if found the unexpanded node\n",
    "            if node.expanded() is False:\n",
    "                break\n",
    "            else:\n",
    "                # choose node\n",
    "                # 1. compute Q value for every node\n",
    "                N = sum(node.N.values())\n",
    "                actions = list(node.Q.keys())\n",
    "                U = {key: None for key in actions}\n",
    "                V = []\n",
    "                for a in actions:\n",
    "                    U[a] = c*np.sqrt(N) / (1+node.N[a]) * node.P[a]\n",
    "                    V.append(node.Q[a] + U[a])\n",
    "                # end for\n",
    "\n",
    "                # 2. choose action that maximizes V\n",
    "                idx = np.argmax(V)\n",
    "                action = actions[idx]\n",
    "                node = node.child_dict[action]\n",
    "            # end if\n",
    "        # end while\n",
    "\n",
    "        # if end_game, simply evaluate\n",
    "        if det_end_game is True:\n",
    "            if _winner == 0:\n",
    "                node.backprob(0.5)\n",
    "            elif _winner == player:\n",
    "                node.backprob(1)\n",
    "            else:\n",
    "                node.backprob(0)\n",
    "            # end if\n",
    "        \n",
    "            # go back to root\n",
    "            node = node.root\n",
    "            continue\n",
    "        # end if\n",
    "\n",
    "        # if not, expand and evaluate\n",
    "        # - list all possible moves\n",
    "        child_nodes = node.grow_branches() \n",
    "        # append legal child nodes\n",
    "        node.append_children(child_nodes)\n",
    "\n",
    "        # - neuralnet evaluation here\n",
    "        P, v = nnet_pred(node.state)\n",
    "\n",
    "        # back-propagation\n",
    "        node.assign_probs(P)\n",
    "        node.backprob(v)\n",
    "\n",
    "        # go back to root\n",
    "        node = node.root\n",
    "    # end while\n",
    "    \n",
    "    return node\n",
    "# end def"
   ]
  },
  {
   "cell_type": "markdown",
   "metadata": {},
   "source": [
    "#### Initialize the board"
   ]
  },
  {
   "cell_type": "code",
   "execution_count": null,
   "metadata": {},
   "outputs": [],
   "source": [
    "new_board = OthelloHelper.new_board()"
   ]
  },
  {
   "cell_type": "code",
   "execution_count": null,
   "metadata": {},
   "outputs": [],
   "source": [
    "init_state = [stateType(data=new_board, player=1) for _ in range(state_memory_n)]"
   ]
  },
  {
   "cell_type": "markdown",
   "metadata": {},
   "source": [
    "#### Declare a game record"
   ]
  },
  {
   "cell_type": "code",
   "execution_count": null,
   "metadata": {},
   "outputs": [],
   "source": [
    "game_record = []"
   ]
  },
  {
   "cell_type": "code",
   "execution_count": null,
   "metadata": {},
   "outputs": [],
   "source": [
    "player_name = {1: 'B', -1: 'W'}"
   ]
  },
  {
   "cell_type": "markdown",
   "metadata": {},
   "source": [
    "#### Initialize a node"
   ]
  },
  {
   "cell_type": "code",
   "execution_count": null,
   "metadata": {},
   "outputs": [],
   "source": [
    "current_node = OthelloDataNode(\"root\")\n",
    "current_node.state = init_state"
   ]
  },
  {
   "cell_type": "code",
   "execution_count": null,
   "metadata": {},
   "outputs": [],
   "source": [
    "game_record.append(current_node.state)"
   ]
  },
  {
   "cell_type": "code",
   "execution_count": null,
   "metadata": {},
   "outputs": [
    {
     "name": "stdout",
     "output_type": "stream",
     "text": [
      "Step: 1 | B (5, 4) | winning rate: 54.9 %\n",
      "Step: 2 | W (5, 5) | winning rate: 55.8 %\n",
      "Step: 3 | B (4, 5) | winning rate: 55.6 %\n",
      "Step: 4 | W (3, 5) | winning rate: 55.5 %\n",
      "Step: 5 | B (2, 2) | winning rate: 55.7 %\n",
      "Step: 6 | W (5, 2) | winning rate: 54.1 %\n",
      "Step: 7 | B (5, 6) | winning rate: 55.6 %\n",
      "Step: 8 | W (6, 5) | winning rate: 53.3 %\n",
      "Step: 9 | B (4, 2) | winning rate: 52.9 %\n",
      "Step: 10 | W (5, 7) | winning rate: 54.3 %\n",
      "Step: 11 | B (3, 6) | winning rate: 54.6 %\n",
      "Step: 12 | W (2, 3) | winning rate: 55.7 %\n",
      "Step: 13 | B (1, 3) | winning rate: 55.8 %\n",
      "Step: 14 | W (1, 2) | winning rate: 53.9 %\n",
      "Step: 15 | B (6, 4) | winning rate: 53.6 %\n",
      "Step: 16 | W (2, 7) | winning rate: 54.7 %\n",
      "Step: 17 | B (2, 5) | winning rate: 54.0 %\n",
      "Step: 18 | W (4, 1) | winning rate: 53.6 %\n",
      "Step: 19 | B (5, 1) | winning rate: 51.8 %\n",
      "Step: 20 | W (2, 6) | winning rate: 53.4 %\n",
      "Step: 21 | B (4, 0) | winning rate: 52.6 %\n",
      "Step: 22 | W (3, 2) | winning rate: 50.2 %\n",
      "Step: 23 | B (2, 1) | winning rate: 53.8 %\n",
      "Step: 24 | W (7, 4) | winning rate: 56.8 %\n",
      "Step: 25 | B (3, 7) | winning rate: 57.9 %\n",
      "Step: 26 | W (3, 0) | winning rate: 60.1 %\n",
      "Step: 27 | B (1, 7) | winning rate: 63.2 %\n",
      "Step: 28 | W (1, 5) | winning rate: 61.5 %\n",
      "Step: 29 | B (1, 4) | winning rate: 60.7 %\n",
      "Step: 30 | W (0, 4) | winning rate: 60.7 %\n",
      "Step: 31 | B (1, 0) | winning rate: 62.1 %\n",
      "Step: 32 | W (5, 0) | winning rate: 60.3 %\n",
      "Step: 33 | B (0, 3) | winning rate: 59.6 %\n",
      "Step: 34 | W (0, 2) | winning rate: 59.2 %\n",
      "Step: 35 | B (7, 5) | winning rate: 55.9 %\n",
      "Step: 36 | W (6, 6) | winning rate: 54.8 %\n",
      "Step: 37 | B (1, 6) | winning rate: 55.6 %\n",
      "Step: 38 | W (0, 7) | winning rate: 54.0 %\n",
      "Step: 39 | B (7, 7) | winning rate: 54.9 %\n",
      "Step: 40 | W (6, 7) | winning rate: 52.9 %\n",
      "Step: 41 | B (6, 0) | winning rate: 54.2 %\n",
      "Step: 42 | W (4, 6) | winning rate: 55.5 %\n",
      "Step: 43 | B (2, 0) | winning rate: 52.5 %\n",
      "Step: 44 | W (6, 1) | winning rate: 56.8 %\n",
      "Step: 45 | B (1, 1) | winning rate: 60.3 %\n",
      "Step: 46 | W (0, 0) | winning rate: 88.7 %\n",
      "Step: 47 | B (0, 1) | winning rate: 85.3 %\n",
      "Step: 48 | W (7, 0) | winning rate: 94.5 %\n",
      "Step: 49 | B (4, 7) | winning rate: 83.0 %\n",
      "Step: 50 | W (7, 6) | winning rate: 88.2 %\n",
      "Step: 51 | B (7, 3) | winning rate: 96.3 %\n",
      "Step: 52 | W (0, 5) | winning rate: 15.1 %\n",
      "Step: 53 | B (0, 6) | winning rate: 98.7 %\n",
      "Step: 54 | W (5, 3) | winning rate: 74.6 %\n",
      "Step: 55 | B (6, 3) | winning rate: 100.0 %\n",
      "Step: 56 | W (6, 2) | winning rate: 39.4 %\n",
      "Step: 57 | "
     ]
    }
   ],
   "source": [
    "for i in range(100):\n",
    "    print('Step: %d' % (i+1,), end=' | ')\n",
    "    # end game check\n",
    "    _winner = OthelloGame.get_winner(current_node.state)\n",
    "    if _winner is not None:\n",
    "        print('Winner: %s' % (player_name[_winner]))\n",
    "        break\n",
    "    # end if\n",
    "        \n",
    "    # sample the node\n",
    "    sampled_node = start_mcts(current_node, allowed_time=allowed_time)\n",
    "    # choose the node\n",
    "    next_node = choose_next_move(sampled_node)\n",
    "    # print\n",
    "    print(player_name[sampled_node.player], next_node.name, end=' | ')\n",
    "    win_prob = sampled_node.W[next_node.name] / sampled_node.N[next_node.name]\n",
    "    print('winning rate: %4.1f %%' % (win_prob*100,))\n",
    "    \n",
    "    # record\n",
    "    game_record.append(next_node.state)\n",
    "    OthelloHelper.print_board(game_record[-1][-1], highlight=next_node.action, outfilename='last_state.png')\n",
    "    \n",
    "    # next\n",
    "    current_node = next_node\n",
    "    current_node.parent = None # remove parent node before simulation\n",
    "    current_node.reset_stats()\n",
    "# end for"
   ]
  },
  {
   "cell_type": "code",
   "execution_count": null,
   "metadata": {},
   "outputs": [],
   "source": []
  },
  {
   "cell_type": "code",
   "execution_count": null,
   "metadata": {},
   "outputs": [],
   "source": []
  }
 ],
 "metadata": {
  "kernelspec": {
   "display_name": "Python 3",
   "language": "python",
   "name": "python3"
  },
  "language_info": {
   "codemirror_mode": {
    "name": "ipython",
    "version": 3
   },
   "file_extension": ".py",
   "mimetype": "text/x-python",
   "name": "python",
   "nbconvert_exporter": "python",
   "pygments_lexer": "ipython3",
   "version": "3.6.7"
  }
 },
 "nbformat": 4,
 "nbformat_minor": 2
}
