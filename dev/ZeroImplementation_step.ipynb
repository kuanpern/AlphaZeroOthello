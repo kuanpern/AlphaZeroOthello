{
 "cells": [
  {
   "cell_type": "markdown",
   "metadata": {},
   "source": [
    "## AlphaZero Implementation\n",
    "One step demonstration\n",
    "\n",
    "note: still in progress"
   ]
  },
  {
   "cell_type": "markdown",
   "metadata": {},
   "source": [
    "#### Import common library"
   ]
  },
  {
   "cell_type": "code",
   "execution_count": 3,
   "metadata": {},
   "outputs": [],
   "source": [
    "import time\n",
    "import shlex\n",
    "import hashlib\n",
    "from collections import defaultdict\n",
    "import numpy as np"
   ]
  },
  {
   "cell_type": "markdown",
   "metadata": {},
   "source": [
    "#### Import MCTS library"
   ]
  },
  {
   "cell_type": "code",
   "execution_count": 38,
   "metadata": {},
   "outputs": [],
   "source": [
    "from MCTS.utils import *\n",
    "from MCTS.Agent import *\n",
    "from MCTS.MCTS import *\n",
    "\n",
    "# note: The MCTS library was designed for 'vanilla' MCTS and not specially \n",
    "# for Zero's implemetation. We shall modify the library as we go by."
   ]
  },
  {
   "cell_type": "markdown",
   "metadata": {},
   "source": [
    "#### Import game rules"
   ]
  },
  {
   "cell_type": "code",
   "execution_count": 39,
   "metadata": {},
   "outputs": [],
   "source": [
    "import rules.Othello as Othello\n",
    "# shorthands\n",
    "OthelloGame   = Othello.OthelloGame   \n",
    "OthelloHelper = Othello.OthelloHelper"
   ]
  },
  {
   "cell_type": "markdown",
   "metadata": {},
   "source": [
    "#### Define hyperparameters"
   ]
  },
  {
   "cell_type": "code",
   "execution_count": 43,
   "metadata": {},
   "outputs": [],
   "source": [
    "# MCTS search related\n",
    "c = 1.2\n",
    "allowed_time = 10\n",
    "\n",
    "# Game specific\n",
    "state_memory_n = 1\n",
    "board_size = [8, 8]"
   ]
  },
  {
   "cell_type": "markdown",
   "metadata": {},
   "source": [
    "#### Import and implement data structure for the game"
   ]
  },
  {
   "cell_type": "code",
   "execution_count": 41,
   "metadata": {},
   "outputs": [],
   "source": [
    "class OthelloDataNode(ZeroDataNode):\n",
    "    def __init__(self, name, Game=OthelloGame, player=1):\n",
    "        super().__init__(Game=Game, name=name, player=player)\n",
    "    # end def\n",
    "# end class"
   ]
  },
  {
   "cell_type": "markdown",
   "metadata": {},
   "source": [
    "#### Define neural network"
   ]
  },
  {
   "cell_type": "code",
   "execution_count": 46,
   "metadata": {},
   "outputs": [],
   "source": [
    "class zero_net:\n",
    "    pass\n",
    "    # TODO\n",
    "# end class\n",
    "net = zero_net()\n",
    "\n",
    "def nnet_pred(state):\n",
    "    P, v = net.forward(state)\n",
    "    P = P.reshape(board_size)\n",
    "    return P, v\n",
    "# end def"
   ]
  },
  {
   "cell_type": "markdown",
   "metadata": {},
   "source": [
    "#### Define exit conditions"
   ]
  },
  {
   "cell_type": "code",
   "execution_count": 18,
   "metadata": {},
   "outputs": [],
   "source": [
    "def exit_cond(time0, time_thr):\n",
    "    # time based\n",
    "    if time.time() - time0 > time_thr:\n",
    "        return True\n",
    "    # end if\n",
    "    \n",
    "    # winning prob based\n",
    "    # TODO\n",
    "# end def"
   ]
  },
  {
   "cell_type": "markdown",
   "metadata": {},
   "source": [
    "#### Main logic"
   ]
  },
  {
   "cell_type": "code",
   "execution_count": 45,
   "metadata": {},
   "outputs": [],
   "source": [
    "def start_mcts(node, allowed_time):\n",
    "    assert node.parent is None\n",
    "    winner_value_dict = {1: 1, -1: 0, 0: 0.5}\n",
    "\n",
    "    while True:\n",
    "        # check exit condition\n",
    "        if exit_cond(time0, allowed_time):\n",
    "            break\n",
    "        # end if\n",
    "\n",
    "        # dynamically expand the tree - search for first un-expanded node\n",
    "        while True:\n",
    "            if node.end_game() is True:\n",
    "                break\n",
    "            # end if\n",
    "            if node.expanded is True:\n",
    "                # choose node\n",
    "                # 1. compute Q value for every node\n",
    "                N = sum(node.N.values())\n",
    "                actions = list(node.Q.keys())\n",
    "                U = {key: None for key in actions}\n",
    "                V = []\n",
    "                for a in actions:\n",
    "                    U[a] = c*np.sqrt(N) / (1+node.N[a]) * node.P[a]\n",
    "                    V.append(node.Q[a] + U[a])\n",
    "                # end for\n",
    "\n",
    "                # 2. choose action that maximizes V\n",
    "                idx = np.argmax(V)\n",
    "                action = actions[idx]\n",
    "                node = node.child_dict[action]\n",
    "            else:\n",
    "                break\n",
    "            # end if\n",
    "        # end while\n",
    "\n",
    "        # if end_game, simply evaluate\n",
    "        _winner = node.get_winner()\n",
    "        if _winner is not None:\n",
    "            v = winner_value_dict[_winner]\n",
    "            node.backprob(v)\n",
    "            continue\n",
    "        # end if\n",
    "        # if not, expand and evaluate\n",
    "\n",
    "        # - list all possible moves\n",
    "        child_nodes = node.grow_branches() \n",
    "        # append legal child nodes\n",
    "        node.append_children(child_nodes)\n",
    "\n",
    "        # - neuralnet evaluation here\n",
    "        P, v = nnet_pred(node.state)\n",
    "\n",
    "        # back-propagation\n",
    "        node.assign_probs(P)\n",
    "        node.backprob(v)\n",
    "\n",
    "        # go back to root\n",
    "        node = node.root\n",
    "    # end while\n",
    "    \n",
    "    return node\n",
    "# end def"
   ]
  },
  {
   "cell_type": "markdown",
   "metadata": {},
   "source": [
    "#### Initialize the board"
   ]
  },
  {
   "cell_type": "code",
   "execution_count": 8,
   "metadata": {},
   "outputs": [],
   "source": [
    "new_board = OthelloHelper.new_board()"
   ]
  },
  {
   "cell_type": "code",
   "execution_count": 16,
   "metadata": {},
   "outputs": [],
   "source": [
    "init_state = [stateType(data=new_board, player=1) for _ in range(state_memory_n)]"
   ]
  },
  {
   "cell_type": "code",
   "execution_count": 17,
   "metadata": {},
   "outputs": [],
   "source": [
    "# show the board (optional)\n",
    "# OthelloHelper.print_board(init_state[0])"
   ]
  },
  {
   "cell_type": "markdown",
   "metadata": {},
   "source": [
    "#### Initialize a node"
   ]
  },
  {
   "cell_type": "code",
   "execution_count": null,
   "metadata": {},
   "outputs": [],
   "source": [
    "node = self.Node(\"root\")\n",
    "node.state = init_state"
   ]
  },
  {
   "cell_type": "code",
   "execution_count": null,
   "metadata": {},
   "outputs": [],
   "source": [
    "# sample the node\n",
    "sampled_node = start_mcts(node, allowed_time=allowed_time)"
   ]
  },
  {
   "cell_type": "markdown",
   "metadata": {},
   "source": [
    "#### Choose a node using the tree search result"
   ]
  },
  {
   "cell_type": "code",
   "execution_count": null,
   "metadata": {},
   "outputs": [],
   "source": [
    "chosen_node = choose_node(sampled_node.children)"
   ]
  },
  {
   "cell_type": "markdown",
   "metadata": {},
   "source": [
    "#### Print the selected action"
   ]
  },
  {
   "cell_type": "code",
   "execution_count": null,
   "metadata": {},
   "outputs": [],
   "source": [
    "print(chosen_node.action)"
   ]
  }
 ],
 "metadata": {
  "kernelspec": {
   "display_name": "Python 3",
   "language": "python",
   "name": "python3"
  },
  "language_info": {
   "codemirror_mode": {
    "name": "ipython",
    "version": 3
   },
   "file_extension": ".py",
   "mimetype": "text/x-python",
   "name": "python",
   "nbconvert_exporter": "python",
   "pygments_lexer": "ipython3",
   "version": "3.6.7"
  }
 },
 "nbformat": 4,
 "nbformat_minor": 2
}
