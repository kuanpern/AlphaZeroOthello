{
 "cells": [
  {
   "cell_type": "markdown",
   "metadata": {},
   "source": [
    "## AlphaZero Implementation\n",
    "One step demonstration"
   ]
  },
  {
   "cell_type": "markdown",
   "metadata": {},
   "source": [
    "#### Import common library"
   ]
  },
  {
   "cell_type": "code",
   "execution_count": 1,
   "metadata": {},
   "outputs": [],
   "source": [
    "import torch\n",
    "import time\n",
    "import shlex\n",
    "import hashlib\n",
    "from collections import defaultdict\n",
    "import numpy as np\n",
    "import dill"
   ]
  },
  {
   "cell_type": "code",
   "execution_count": 2,
   "metadata": {},
   "outputs": [],
   "source": [
    "import matplotlib.pyplot as plt\n",
    "%matplotlib inline"
   ]
  },
  {
   "cell_type": "markdown",
   "metadata": {},
   "source": [
    "#### Import MCTS library"
   ]
  },
  {
   "cell_type": "code",
   "execution_count": 3,
   "metadata": {},
   "outputs": [],
   "source": [
    "from MCTS.utils import *\n",
    "from MCTS.Agent import *\n",
    "from MCTS.MCTS import *\n",
    "\n",
    "# note: The MCTS library was designed for 'vanilla' MCTS and not specially \n",
    "# for Zero's implemetation. We shall modify the library as we go by."
   ]
  },
  {
   "cell_type": "markdown",
   "metadata": {},
   "source": [
    "#### Import game rules"
   ]
  },
  {
   "cell_type": "code",
   "execution_count": 4,
   "metadata": {},
   "outputs": [],
   "source": [
    "import rules.Othello as Othello\n",
    "# shorthands\n",
    "OthelloGame   = Othello.OthelloGame   \n",
    "OthelloHelper = Othello.OthelloHelper"
   ]
  },
  {
   "cell_type": "markdown",
   "metadata": {},
   "source": [
    "#### Define hyperparameters"
   ]
  },
  {
   "cell_type": "code",
   "execution_count": 5,
   "metadata": {},
   "outputs": [],
   "source": [
    "# MCTS search related\n",
    "c = 1.2\n",
    "allowed_time = 5\n",
    "\n",
    "# Game specific\n",
    "state_memory_n = 1\n",
    "board_size = [8, 8]"
   ]
  },
  {
   "cell_type": "markdown",
   "metadata": {},
   "source": [
    "#### Import and implement data structure for the game"
   ]
  },
  {
   "cell_type": "code",
   "execution_count": 6,
   "metadata": {},
   "outputs": [],
   "source": [
    "class OthelloDataNode(ZeroDataNode):\n",
    "    def __init__(self, name, Game=OthelloGame, player=1):\n",
    "        super().__init__(Game=Game, name=name, player=player)\n",
    "    # end def\n",
    "# end class"
   ]
  },
  {
   "cell_type": "markdown",
   "metadata": {},
   "source": [
    "#### Import a pre-trained model (on human expert dataset)"
   ]
  },
  {
   "cell_type": "code",
   "execution_count": 7,
   "metadata": {},
   "outputs": [],
   "source": [
    "class Net(torch.nn.Module):\n",
    "    def __init__(self):\n",
    "        super().__init__()\n",
    "        # define functionals\n",
    "        self.fc1     = torch.nn.Linear(64, 100)\n",
    "        self.norm1   = torch.nn.BatchNorm1d(100)\n",
    "        self.relu1   = torch.nn.ReLU()\n",
    "        self.fc2     = torch.nn.Linear(100, 62)\n",
    "        self.softmax = torch.nn.Softmax()\n",
    "        self.sigmoid = torch.nn.Sigmoid()\n",
    "    # end def\n",
    "    \n",
    "    def forward(self, x):\n",
    "        out = self.fc1(x)\n",
    "        out = self.norm1(out)\n",
    "        out = self.relu1(out)\n",
    "        out = self.fc2(out)\n",
    "        out_p, out_v = torch.split(out, (61, 1), 1)\n",
    "        out_p = self.softmax(out_p)\n",
    "        out_v = self.sigmoid(out_v)\n",
    "        out = torch.cat((out_p, out_v), 1)\n",
    "        return out\n",
    "    # end def\n",
    "# end class\n",
    "\n",
    "model_file = 'expert_prediction/data/models/oth_exp_pred-iter03500.dill'\n",
    "with open(model_file, 'rb') as fin:\n",
    "    net = dill.load(fin)\n",
    "# end with\n",
    "\n",
    "# copy to cpu and makes to evaluation mode\n",
    "net = net.cpu().eval()"
   ]
  },
  {
   "cell_type": "markdown",
   "metadata": {},
   "source": [
    "#### wrap the neuralnet in a predictor"
   ]
  },
  {
   "cell_type": "code",
   "execution_count": 8,
   "metadata": {},
   "outputs": [],
   "source": [
    "def parse_move_probs(move_probs):\n",
    "    '''parse neuralnet output to dict of vector'''\n",
    "    label2move = {0: [0, 0], 1: [0, 1], 2: [0, 2], 3: [0, 3], 4: [0, 4], 5: [0, 5], 6: [0, 6], \n",
    "                  7: [0, 7], 8: [1, 0], 9: [1, 1], 10: [1, 2], 11: [1, 3], 12: [1, 4], 13: [1, 5], \n",
    "                  14: [1, 6], 15: [1, 7], 16: [2, 0], 17: [2, 1], 18: [2, 2], 19: [2, 3], 20: [2, 4], \n",
    "                  21: [2, 5], 22: [2, 6], 23: [2, 7], 24: [3, 0], 25: [3, 1], 26: [3, 2], 27: [3, 5], \n",
    "                  28: [3, 6], 29: [3, 7], 30: [4, 0], 31: [4, 1], 32: [4, 2], 33: [4, 5], 34: [4, 6], \n",
    "                  35: [4, 7], 36: [5, 0], 37: [5, 1], 38: [5, 2], 39: [5, 3], 40: [5, 4], 41: [5, 5], \n",
    "                  42: [5, 6], 43: [5, 7], 44: [6, 0], 45: [6, 1], 46: [6, 2], 47: [6, 3], 48: [6, 4], \n",
    "                  49: [6, 5], 50: [6, 6], 51: [6, 7], 52: [7, 0], 53: [7, 1], 54: [7, 2], 55: [7, 3], \n",
    "                  56: [7, 4], 57: [7, 5], 58: [7, 6], 59: [7, 7], 60: 'PASS'}\n",
    "    move2label = {tuple(q): p for p, q in label2move.items()}\n",
    "\n",
    "    z = copy.deepcopy(move_probs)\n",
    "    z = {tuple(label2move[i]): z[i] for i in range(len(z))}\n",
    "    z['PASS'] = z.pop(tuple('PASS'))\n",
    "    return z\n",
    "# end def\n",
    "\n",
    "def nnet_pred(state_in):\n",
    "    # TODO: currently only for black\n",
    "    state_in = state_in[-1] # Othello uses only last step\n",
    "    data_in = state_in.data.flatten()\n",
    "    \n",
    "    # call the net for prediction\n",
    "    net_outputs = net(torch.from_numpy(np.array([data_in])).float())[0].detach().numpy()\n",
    "    # split into move prob and winner pred\n",
    "    P, v = net_outputs[:-1], net_outputs[-1] #np.split(net_outputs, [len(net_outputs)-1, ])    \n",
    "    P = parse_move_probs(P)\n",
    "    return P, v\n",
    "# end def"
   ]
  },
  {
   "cell_type": "code",
   "execution_count": 9,
   "metadata": {},
   "outputs": [],
   "source": [
    "'''\n",
    "_mid = [1, 1, 1, 1, 1, 1, 1, 0, 1, 1, -1, 1, -1, 1, \n",
    "        -1, 1, 1, -1, 1, -1, 1, -1, -1, 1, 1, -1, \n",
    "        -1, 1, 1, 1, -1, 1, 1, -1, 1, -1, -1, -1, -1, \n",
    "        1, 1, -1, -1, -1, -1, -1, 0, 1, 1, -1, -1, \n",
    "        -1, -1, -1, 0, 0, 0, 0, -1, -1, -1, -1, 0, 0]\n",
    "print(nnet_pred(_mid))\n",
    "''';"
   ]
  },
  {
   "cell_type": "markdown",
   "metadata": {},
   "source": [
    "#### Define exit conditions"
   ]
  },
  {
   "cell_type": "code",
   "execution_count": 10,
   "metadata": {},
   "outputs": [],
   "source": [
    "def exit_cond(time0, time_thr):\n",
    "    # time based\n",
    "    if time.time() - time0 > time_thr:\n",
    "        return True\n",
    "    # end if\n",
    "    \n",
    "    # winning prob based\n",
    "    # TODO\n",
    "# end def"
   ]
  },
  {
   "cell_type": "markdown",
   "metadata": {},
   "source": [
    "#### Main logic"
   ]
  },
  {
   "cell_type": "code",
   "execution_count": 11,
   "metadata": {},
   "outputs": [],
   "source": [
    "def start_mcts(node, allowed_time):\n",
    "    assert node.parent is None\n",
    "    winner_value_dict = {1: 1, -1: 0, 0: 0.5}\n",
    "\n",
    "    _iter = 0\n",
    "    time0 = time.time()\n",
    "    while True:\n",
    "        _iter += 1\n",
    "        if _iter % 100 == 0:\n",
    "            print('iteration: %d' % (_iter,))\n",
    "        # end if\n",
    "        \n",
    "        # check exit condition\n",
    "        if exit_cond(time0, allowed_time):\n",
    "            print('iteration: %d' % (_iter,))\n",
    "            break\n",
    "        # end if\n",
    "\n",
    "        # dynamically expand the tree - search for first un-expanded node\n",
    "        det_end_game = False\n",
    "        while True:\n",
    "            # if end game, break loop and proceed to backprop\n",
    "            _winner = OthelloGame.get_winner(node.state)\n",
    "            if _winner is not None:\n",
    "                det_end_game = True\n",
    "                break\n",
    "            # end if\n",
    "            \n",
    "            # exit loop if found the unexpanded node\n",
    "            if node.expanded() is False:\n",
    "                break\n",
    "            else:\n",
    "                # choose node\n",
    "                # 1. compute Q value for every node\n",
    "                N = sum(node.N.values())\n",
    "                actions = list(node.Q.keys())\n",
    "                U = {key: None for key in actions}\n",
    "                V = []\n",
    "                for a in actions:\n",
    "                    U[a] = c*np.sqrt(N) / (1+node.N[a]) * node.P[a]\n",
    "                    V.append(node.Q[a] + U[a])\n",
    "                # end for\n",
    "\n",
    "                # 2. choose action that maximizes V\n",
    "                idx = np.argmax(V)\n",
    "                action = actions[idx]\n",
    "                node = node.child_dict[action]\n",
    "            # end if\n",
    "        # end while\n",
    "\n",
    "        # if end_game, simply evaluate\n",
    "        if det_end_game is True:\n",
    "            v = winner_value_dict[_winner]\n",
    "            node.backprob(v)\n",
    "            continue\n",
    "        # end if\n",
    "\n",
    "        # if not, expand and evaluate\n",
    "        # - list all possible moves\n",
    "        child_nodes = node.grow_branches() \n",
    "        # append legal child nodes\n",
    "        node.append_children(child_nodes)\n",
    "\n",
    "        # - neuralnet evaluation here\n",
    "        P, v = nnet_pred(node.state)\n",
    "\n",
    "        # back-propagation\n",
    "        node.assign_probs(P)\n",
    "        node.backprob(v)\n",
    "\n",
    "        # go back to root\n",
    "        node = node.root\n",
    "    # end while\n",
    "    \n",
    "    return node\n",
    "# end def"
   ]
  },
  {
   "cell_type": "markdown",
   "metadata": {},
   "source": [
    "#### Initialize the board"
   ]
  },
  {
   "cell_type": "code",
   "execution_count": 12,
   "metadata": {},
   "outputs": [],
   "source": [
    "new_board = OthelloHelper.new_board()"
   ]
  },
  {
   "cell_type": "code",
   "execution_count": 13,
   "metadata": {},
   "outputs": [],
   "source": [
    "init_state = [stateType(data=new_board, player=1) for _ in range(state_memory_n)]"
   ]
  },
  {
   "cell_type": "code",
   "execution_count": 14,
   "metadata": {},
   "outputs": [
    {
     "data": {
      "image/png": "[encoded data removed]",
      "text/plain": [
       "<Figure size 576x576 with 1 Axes>"
      ]
     },
     "metadata": {
      "needs_background": "light"
     },
     "output_type": "display_data"
    }
   ],
   "source": [
    "# show the board (optional)\n",
    "OthelloHelper.print_board(init_state[0])"
   ]
  },
  {
   "cell_type": "markdown",
   "metadata": {},
   "source": [
    "#### Initialize a node"
   ]
  },
  {
   "cell_type": "code",
   "execution_count": 15,
   "metadata": {},
   "outputs": [],
   "source": [
    "node = OthelloDataNode(\"root\")\n",
    "node.state = init_state"
   ]
  },
  {
   "cell_type": "code",
   "execution_count": 16,
   "metadata": {},
   "outputs": [
    {
     "name": "stderr",
     "output_type": "stream",
     "text": [
      "/home/kuanpern/AlphaZeroOthello/dev/venv/lib/python3.6/site-packages/ipykernel_launcher.py:19: UserWarning: Implicit dimension choice for softmax has been deprecated. Change the call to include dim=X as an argument.\n"
     ]
    },
    {
     "name": "stdout",
     "output_type": "stream",
     "text": [
      "iteration: 100\n",
      "iteration: 200\n",
      "iteration: 300\n",
      "iteration: 400\n",
      "iteration: 500\n",
      "iteration: 600\n",
      "iteration: 700\n",
      "iteration: 800\n",
      "iteration: 900\n",
      "iteration: 935\n"
     ]
    }
   ],
   "source": [
    "# sample the node\n",
    "sampled_node = start_mcts(node, allowed_time=allowed_time)"
   ]
  },
  {
   "cell_type": "code",
   "execution_count": 24,
   "metadata": {},
   "outputs": [
    {
     "name": "stdout",
     "output_type": "stream",
     "text": [
      "/\n",
      " -(2, 3): 0.56\n",
      " -(5, 4): 0.55\n",
      "  -(3, 5): 0.53\n",
      "   -(2, 2): 0.53\n",
      "    -(3, 2): 0.50\n",
      "     -(2, 1): 0.48\n",
      "     -(2, 3): 0.50\n",
      "      -(1, 2): 0.55\n",
      "      -(5, 2): 0.50\n",
      "       -(2, 1): 0.45\n",
      "       -(4, 5): 0.50\n",
      "        -(1, 2): 0.51\n",
      "         -(0, 1): 0.49\n",
      "        -(1, 4): 0.52\n",
      "         -(1, 2): 0.51\n",
      "          -(0, 2): 0.52\n",
      "           -(0, 1): 0.46\n",
      "        -(2, 5): 0.47\n",
      "         -(1, 5): 0.45\n"
     ]
    }
   ],
   "source": [
    "tree_txt = sampled_node.print_tree()\n",
    "print('\\n'.join(tree_txt.splitlines()[:20]))"
   ]
  },
  {
   "cell_type": "code",
   "execution_count": 18,
   "metadata": {},
   "outputs": [
    {
     "name": "stdout",
     "output_type": "stream",
     "text": [
      "mean: 0.5550589496248661\n",
      "stdev: 0.05752227545384137\n"
     ]
    },
    {
     "data": {
      "image/png": "[encoded data removed]",
      "text/plain": [
       "<Figure size 432x288 with 1 Axes>"
      ]
     },
     "metadata": {
      "needs_background": "light"
     },
     "output_type": "display_data"
    }
   ],
   "source": [
    "ps = [float(line.split()[-1]) for line in tree_txt.splitlines()[1:]]\n",
    "plt.hist(ps, 15);\n",
    "print('mean:', np.mean(ps))\n",
    "print('stdev:', np.std(ps))"
   ]
  },
  {
   "cell_type": "code",
   "execution_count": 19,
   "metadata": {},
   "outputs": [],
   "source": [
    "# first mover advantages of 5% ?"
   ]
  },
  {
   "cell_type": "markdown",
   "metadata": {},
   "source": [
    "#### Choose a node using the tree search result"
   ]
  },
  {
   "cell_type": "code",
   "execution_count": 20,
   "metadata": {},
   "outputs": [],
   "source": [
    "def choose_most_visited_child_node(node):\n",
    "    chosen  = None\n",
    "    max_val = None\n",
    "    for key, val in node.N.items():\n",
    "        if chosen is None:\n",
    "            chosen = key\n",
    "        # end if\n",
    "        if max_val is None:\n",
    "            max_val = val\n",
    "        # end if\n",
    "        \n",
    "        if val > max_val:\n",
    "            max_val = val\n",
    "            chosen = key\n",
    "        # end of\n",
    "    # end for\n",
    "    return node.child_dict[key]\n",
    "# end def\n"
   ]
  },
  {
   "cell_type": "code",
   "execution_count": 21,
   "metadata": {},
   "outputs": [],
   "source": [
    "chosen_node = choose_most_visited_child_node(sampled_node)"
   ]
  },
  {
   "cell_type": "markdown",
   "metadata": {},
   "source": [
    "#### Print the selected action"
   ]
  },
  {
   "cell_type": "code",
   "execution_count": 22,
   "metadata": {},
   "outputs": [
    {
     "name": "stdout",
     "output_type": "stream",
     "text": [
      "(5, 4)\n"
     ]
    }
   ],
   "source": [
    "print(chosen_node.action)"
   ]
  }
 ],
 "metadata": {
  "kernelspec": {
   "display_name": "Python 3",
   "language": "python",
   "name": "python3"
  },
  "language_info": {
   "codemirror_mode": {
    "name": "ipython",
    "version": 3
   },
   "file_extension": ".py",
   "mimetype": "text/x-python",
   "name": "python",
   "nbconvert_exporter": "python",
   "pygments_lexer": "ipython3",
   "version": "3.6.7"
  }
 },
 "nbformat": 4,
 "nbformat_minor": 2
}
