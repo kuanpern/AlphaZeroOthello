{
 "cells": [
  {
   "cell_type": "markdown",
   "metadata": {},
   "source": [
    "## AlphaZero Implementation\n",
    "One step demonstration\n",
    "\n",
    "note: still in progress"
   ]
  },
  {
   "cell_type": "markdown",
   "metadata": {},
   "source": [
    "#### Import common library"
   ]
  },
  {
   "cell_type": "code",
   "execution_count": 1,
   "metadata": {},
   "outputs": [],
   "source": [
    "import time\n",
    "import shlex\n",
    "import hashlib\n",
    "from collections import defaultdict\n",
    "import numpy as np\n",
    "import dill"
   ]
  },
  {
   "cell_type": "markdown",
   "metadata": {},
   "source": [
    "#### Import MCTS library"
   ]
  },
  {
   "cell_type": "code",
   "execution_count": 2,
   "metadata": {},
   "outputs": [],
   "source": [
    "from MCTS.utils import *\n",
    "from MCTS.Agent import *\n",
    "from MCTS.MCTS import *\n",
    "\n",
    "# note: The MCTS library was designed for 'vanilla' MCTS and not specially \n",
    "# for Zero's implemetation. We shall modify the library as we go by."
   ]
  },
  {
   "cell_type": "markdown",
   "metadata": {},
   "source": [
    "#### Import game rules"
   ]
  },
  {
   "cell_type": "code",
   "execution_count": 3,
   "metadata": {},
   "outputs": [],
   "source": [
    "import rules.Othello as Othello\n",
    "# shorthands\n",
    "OthelloGame   = Othello.OthelloGame   \n",
    "OthelloHelper = Othello.OthelloHelper"
   ]
  },
  {
   "cell_type": "markdown",
   "metadata": {},
   "source": [
    "#### Define hyperparameters"
   ]
  },
  {
   "cell_type": "code",
   "execution_count": 4,
   "metadata": {},
   "outputs": [],
   "source": [
    "# MCTS search related\n",
    "c = 1.2\n",
    "allowed_time = 10\n",
    "\n",
    "# Game specific\n",
    "state_memory_n = 1\n",
    "board_size = [8, 8]"
   ]
  },
  {
   "cell_type": "markdown",
   "metadata": {},
   "source": [
    "#### Import and implement data structure for the game"
   ]
  },
  {
   "cell_type": "code",
   "execution_count": 5,
   "metadata": {},
   "outputs": [],
   "source": [
    "class OthelloDataNode(ZeroDataNode):\n",
    "    def __init__(self, name, Game=OthelloGame, player=1):\n",
    "        super().__init__(Game=Game, name=name, player=player)\n",
    "    # end def\n",
    "# end class"
   ]
  },
  {
   "cell_type": "markdown",
   "metadata": {},
   "source": [
    "#### Define neural network"
   ]
  },
  {
   "cell_type": "code",
   "execution_count": 32,
   "metadata": {},
   "outputs": [],
   "source": [
    "import torch\n",
    "class Net(torch.nn.Module):\n",
    "    def __init__(self):\n",
    "        super().__init__()\n",
    "        # define functionals\n",
    "        self.fc1     = torch.nn.Linear(64, 200)\n",
    "        self.relu1   = torch.nn.ReLU()\n",
    "        self.norm1   = torch.nn.BatchNorm1d(200)\n",
    "        self.fc2     = torch.nn.Linear(200, 62)\n",
    "        self.norm2   = torch.nn.BatchNorm1d(62)\n",
    "        self.softmax = torch.nn.Softmax(dim=1)\n",
    "    # end def\n",
    "    \n",
    "    def forward(self, x):\n",
    "        out = self.fc1(x)\n",
    "        out = self.norm1(out)\n",
    "        out = self.relu1(out)\n",
    "        out = self.fc2(out)\n",
    "        out = self.norm2(out)\n",
    "        out = self.softmax(out)\n",
    "        return out\n",
    "    # end def\n",
    "# end class"
   ]
  },
  {
   "cell_type": "markdown",
   "metadata": {},
   "source": [
    "#### Import a pre-trained model (on human expert dataset)"
   ]
  },
  {
   "cell_type": "code",
   "execution_count": 86,
   "metadata": {},
   "outputs": [],
   "source": [
    "model_file = 'expert_prediction/data/models/oth_exp_pred-iter03500.dill'\n",
    "with open(model_file, 'rb') as fin:\n",
    "    net = dill.load(fin)\n",
    "# end with"
   ]
  },
  {
   "cell_type": "code",
   "execution_count": 87,
   "metadata": {},
   "outputs": [],
   "source": [
    "net = net.cpu()"
   ]
  },
  {
   "cell_type": "code",
   "execution_count": 88,
   "metadata": {},
   "outputs": [
    {
     "data": {
      "text/plain": [
       "Net(\n",
       "  (fc1): Linear(in_features=64, out_features=200, bias=True)\n",
       "  (relu1): ReLU()\n",
       "  (norm1): BatchNorm1d(200, eps=1e-05, momentum=0.1, affine=True, track_running_stats=True)\n",
       "  (fc2): Linear(in_features=200, out_features=62, bias=True)\n",
       "  (norm2): BatchNorm1d(62, eps=1e-05, momentum=0.1, affine=True, track_running_stats=True)\n",
       "  (softmax): Softmax()\n",
       ")"
      ]
     },
     "execution_count": 88,
     "metadata": {},
     "output_type": "execute_result"
    }
   ],
   "source": [
    "net.eval()"
   ]
  },
  {
   "cell_type": "code",
   "execution_count": 89,
   "metadata": {},
   "outputs": [],
   "source": [
    "label2move = {0: [0, 0], 1: [0, 1], 2: [0, 2], 3: [0, 3], 4: [0, 4], 5: [0, 5], 6: [0, 6], \n",
    "              7: [0, 7], 8: [1, 0], 9: [1, 1], 10: [1, 2], 11: [1, 3], 12: [1, 4], 13: [1, 5], \n",
    "              14: [1, 6], 15: [1, 7], 16: [2, 0], 17: [2, 1], 18: [2, 2], 19: [2, 3], 20: [2, 4], \n",
    "              21: [2, 5], 22: [2, 6], 23: [2, 7], 24: [3, 0], 25: [3, 1], 26: [3, 2], 27: [3, 5], \n",
    "              28: [3, 6], 29: [3, 7], 30: [4, 0], 31: [4, 1], 32: [4, 2], 33: [4, 5], 34: [4, 6], \n",
    "              35: [4, 7], 36: [5, 0], 37: [5, 1], 38: [5, 2], 39: [5, 3], 40: [5, 4], 41: [5, 5], \n",
    "              42: [5, 6], 43: [5, 7], 44: [6, 0], 45: [6, 1], 46: [6, 2], 47: [6, 3], 48: [6, 4], \n",
    "              49: [6, 5], 50: [6, 6], 51: [6, 7], 52: [7, 0], 53: [7, 1], 54: [7, 2], 55: [7, 3], \n",
    "              56: [7, 4], 57: [7, 5], 58: [7, 6], 59: [7, 7], 60: 'PASS'}\n",
    "move2label = {tuple(q): p for p, q in label2move.items()}"
   ]
  },
  {
   "cell_type": "code",
   "execution_count": 117,
   "metadata": {},
   "outputs": [],
   "source": [
    "_input = [0, 0, 0, 0, 0, 0, 0, 0, 0, 0, 0, 0, 0, 0, 0, 0, 0, 0, 0, 0, 0, 0, 0, 0, 0, 0, 0, -1, 1, 0, 0, 0, 0, 0, 0, 1, -1, 0, 0, 0, 0, 0, 0, 0, 0, 0, 0, 0, 0, 0, 0, 0, 0, 0, 0, 0, 0, 0, 0, 0, 0, 0, 0, 0]\n",
    "_input = [0, 0, 0, 0, 0, 0, 0, 0, 0, 0, 0, 0, 0, 0, 0, 0, 0, 0, 0, 0, 0, 0, 0, 0, 0, 0, 0, 1, -1, 0, 0, 0, 0, 0, 0, -1, -1, 0, 0, 0, 0, 0, 0, 0, -1, 0, 0, 0, 0, 0, 0, 0, 0, 0, 0, 0, 0, 0, 0, 0, 0, 0, 0, 0]\n",
    "_input = [-1, -1, -1, -1, -1, -1, -1, -1, -1, -1, 1, -1, 1, -1, -1, -1, -1, 1, -1, 1, -1, -1, -1, -1, -1, 1, 1, -1, 1, -1, -1, -1, -1, 1, -1, 1, 1, 1, -1, -1, -1, -1, -1, -1, -1, 1, -1, -1, -1, -1, -1, 1, 1, -1, -1, 1, -1, -1, -1, -1, -1, -1, -1, 0]\n",
    "_input = torch.from_numpy(-np.array([_input,])).float()"
   ]
  },
  {
   "cell_type": "code",
   "execution_count": 118,
   "metadata": {},
   "outputs": [],
   "source": [
    "outputs = net(_input)"
   ]
  },
  {
   "cell_type": "code",
   "execution_count": 119,
   "metadata": {},
   "outputs": [
    {
     "data": {
      "text/plain": [
       "tensor(0.7052, grad_fn=<SubBackward>)"
      ]
     },
     "execution_count": 119,
     "metadata": {},
     "output_type": "execute_result"
    }
   ],
   "source": [
    "outputs[0][-1] * 2 - 1"
   ]
  },
  {
   "cell_type": "code",
   "execution_count": 116,
   "metadata": {},
   "outputs": [],
   "source": [
    "move_probs, pred_vals = torch.split(outputs, (61, 1), 1)"
   ]
  },
  {
   "cell_type": "code",
   "execution_count": 22,
   "metadata": {},
   "outputs": [
    {
     "data": {
      "text/plain": [
       "0.0"
      ]
     },
     "execution_count": 22,
     "metadata": {},
     "output_type": "execute_result"
    }
   ],
   "source": [
    "round(float(pred_vals.detach().numpy()[0][0]), 2)"
   ]
  },
  {
   "cell_type": "code",
   "execution_count": 16,
   "metadata": {},
   "outputs": [],
   "source": [
    "z = move_probs.detach().numpy()[0]"
   ]
  },
  {
   "cell_type": "code",
   "execution_count": 17,
   "metadata": {},
   "outputs": [],
   "source": [
    "z = {tuple(label2move[i]): z[i] for i in range(len(z))}"
   ]
  },
  {
   "cell_type": "code",
   "execution_count": null,
   "metadata": {},
   "outputs": [],
   "source": [
    "z['PASS'] = z.pop(tuple('PASS'))"
   ]
  },
  {
   "cell_type": "code",
   "execution_count": null,
   "metadata": {},
   "outputs": [],
   "source": [
    "z"
   ]
  },
  {
   "cell_type": "code",
   "execution_count": null,
   "metadata": {},
   "outputs": [],
   "source": []
  },
  {
   "cell_type": "code",
   "execution_count": null,
   "metadata": {},
   "outputs": [],
   "source": []
  },
  {
   "cell_type": "code",
   "execution_count": null,
   "metadata": {},
   "outputs": [],
   "source": []
  },
  {
   "cell_type": "markdown",
   "metadata": {},
   "source": [
    "#### wrap the neuralnet in a predictor"
   ]
  },
  {
   "cell_type": "code",
   "execution_count": null,
   "metadata": {},
   "outputs": [],
   "source": [
    "def nnet_pred(state):\n",
    "    P, v = net.forward(state)\n",
    "    P = P.reshape(board_size)\n",
    "    return P, v\n",
    "# end def"
   ]
  },
  {
   "cell_type": "markdown",
   "metadata": {},
   "source": [
    "#### Define exit conditions"
   ]
  },
  {
   "cell_type": "code",
   "execution_count": null,
   "metadata": {},
   "outputs": [],
   "source": [
    "def exit_cond(time0, time_thr):\n",
    "    # time based\n",
    "    if time.time() - time0 > time_thr:\n",
    "        return True\n",
    "    # end if\n",
    "    \n",
    "    # winning prob based\n",
    "    # TODO\n",
    "# end def"
   ]
  },
  {
   "cell_type": "markdown",
   "metadata": {},
   "source": [
    "#### Main logic"
   ]
  },
  {
   "cell_type": "code",
   "execution_count": null,
   "metadata": {},
   "outputs": [],
   "source": [
    "def start_mcts(node, allowed_time):\n",
    "    assert node.parent is None\n",
    "    winner_value_dict = {1: 1, -1: 0, 0: 0.5}\n",
    "\n",
    "    while True:\n",
    "        # check exit condition\n",
    "        if exit_cond(time0, allowed_time):\n",
    "            break\n",
    "        # end if\n",
    "\n",
    "        # dynamically expand the tree - search for first un-expanded node\n",
    "        while True:\n",
    "            if node.end_game() is True:\n",
    "                break\n",
    "            # end if\n",
    "            if node.expanded is True:\n",
    "                # choose node\n",
    "                # 1. compute Q value for every node\n",
    "                N = sum(node.N.values())\n",
    "                actions = list(node.Q.keys())\n",
    "                U = {key: None for key in actions}\n",
    "                V = []\n",
    "                for a in actions:\n",
    "                    U[a] = c*np.sqrt(N) / (1+node.N[a]) * node.P[a]\n",
    "                    V.append(node.Q[a] + U[a])\n",
    "                # end for\n",
    "\n",
    "                # 2. choose action that maximizes V\n",
    "                idx = np.argmax(V)\n",
    "                action = actions[idx]\n",
    "                node = node.child_dict[action]\n",
    "            else:\n",
    "                break\n",
    "            # end if\n",
    "        # end while\n",
    "\n",
    "        # if end_game, simply evaluate\n",
    "        _winner = node.get_winner()\n",
    "        if _winner is not None:\n",
    "            v = winner_value_dict[_winner]\n",
    "            node.backprob(v)\n",
    "            continue\n",
    "        # end if\n",
    "        # if not, expand and evaluate\n",
    "\n",
    "        # - list all possible moves\n",
    "        child_nodes = node.grow_branches() \n",
    "        # append legal child nodes\n",
    "        node.append_children(child_nodes)\n",
    "\n",
    "        # - neuralnet evaluation here\n",
    "        P, v = nnet_pred(node.state)\n",
    "\n",
    "        # back-propagation\n",
    "        node.assign_probs(P)\n",
    "        node.backprob(v)\n",
    "\n",
    "        # go back to root\n",
    "        node = node.root\n",
    "    # end while\n",
    "    \n",
    "    return node\n",
    "# end def"
   ]
  },
  {
   "cell_type": "markdown",
   "metadata": {},
   "source": [
    "#### Initialize the board"
   ]
  },
  {
   "cell_type": "code",
   "execution_count": null,
   "metadata": {},
   "outputs": [],
   "source": [
    "new_board = OthelloHelper.new_board()"
   ]
  },
  {
   "cell_type": "code",
   "execution_count": null,
   "metadata": {},
   "outputs": [],
   "source": [
    "init_state = [stateType(data=new_board, player=1) for _ in range(state_memory_n)]"
   ]
  },
  {
   "cell_type": "code",
   "execution_count": null,
   "metadata": {},
   "outputs": [],
   "source": [
    "# show the board (optional)\n",
    "# OthelloHelper.print_board(init_state[0])"
   ]
  },
  {
   "cell_type": "markdown",
   "metadata": {},
   "source": [
    "#### Initialize a node"
   ]
  },
  {
   "cell_type": "code",
   "execution_count": null,
   "metadata": {},
   "outputs": [],
   "source": [
    "node = self.Node(\"root\")\n",
    "node.state = init_state"
   ]
  },
  {
   "cell_type": "code",
   "execution_count": null,
   "metadata": {},
   "outputs": [],
   "source": [
    "# sample the node\n",
    "sampled_node = start_mcts(node, allowed_time=allowed_time)"
   ]
  },
  {
   "cell_type": "markdown",
   "metadata": {},
   "source": [
    "#### Choose a node using the tree search result"
   ]
  },
  {
   "cell_type": "code",
   "execution_count": null,
   "metadata": {},
   "outputs": [],
   "source": [
    "chosen_node = choose_node(sampled_node.children)"
   ]
  },
  {
   "cell_type": "markdown",
   "metadata": {},
   "source": [
    "#### Print the selected action"
   ]
  },
  {
   "cell_type": "code",
   "execution_count": null,
   "metadata": {},
   "outputs": [],
   "source": [
    "print(chosen_node.action)"
   ]
  }
 ],
 "metadata": {
  "kernelspec": {
   "display_name": "Python 3",
   "language": "python",
   "name": "python3"
  },
  "language_info": {
   "codemirror_mode": {
    "name": "ipython",
    "version": 3
   },
   "file_extension": ".py",
   "mimetype": "text/x-python",
   "name": "python",
   "nbconvert_exporter": "python",
   "pygments_lexer": "ipython3",
   "version": "3.6.7"
  }
 },
 "nbformat": 4,
 "nbformat_minor": 2
}
