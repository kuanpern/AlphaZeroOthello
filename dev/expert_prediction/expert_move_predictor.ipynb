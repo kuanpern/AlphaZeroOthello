{
 "cells": [
  {
   "cell_type": "markdown",
   "metadata": {},
   "source": [
    "### Human expert move predictor 01"
   ]
  },
  {
   "cell_type": "markdown",
   "metadata": {},
   "source": [
    "This notebook demonstrates the training of a human expert move neural network predictor on the Othello game. The trained network will be used to bootstrap the AlphaZero network training.\n",
    "\n",
    "__Notes__:\n",
    "1. With enough computing resources, this bootstrap step is not absolutely necessary, i.e. the AlphaZero network can be trained from a random network. \n",
    "1. We skipped quite a few steps in generating a proper predictive model (e.g. train-test-validate, measurements of key indicators) as they are not essential in the bootstrapping task. We shall backfill them in the future"
   ]
  },
  {
   "cell_type": "markdown",
   "metadata": {},
   "source": [
    "#### Data sources\n",
    "* original tournament data are obtained from http://www.ffothello.org/informatique/la-base-wthor/\n",
    "* encoded dataset used in this notebook can be downloaded at https://drive.google.com/open?id=1thIFevwYhD9Y9JIMvLPS6QF0TiIzNbKR"
   ]
  },
  {
   "cell_type": "code",
   "execution_count": 1,
   "metadata": {},
   "outputs": [],
   "source": [
    "import sys\n",
    "import time\n",
    "import json\n",
    "import numpy\n",
    "import glob\n",
    "import random\n",
    "import copy\n",
    "import dill\n",
    "import logging\n",
    "logger = logging.getLogger()\n",
    "logger.setLevel(logging.INFO)\n",
    "\n",
    "import torch\n",
    "import torch.nn\n",
    "import torch.optim as optim"
   ]
  },
  {
   "cell_type": "code",
   "execution_count": 2,
   "metadata": {},
   "outputs": [],
   "source": [
    "import matplotlib.pyplot as plt\n",
    "%matplotlib inline"
   ]
  },
  {
   "cell_type": "markdown",
   "metadata": {},
   "source": [
    "#### NETWORK ARCHITECTURE\n",
    "A simplistic one hidden layer neural network to learn experts' moves"
   ]
  },
  {
   "cell_type": "code",
   "execution_count": 4,
   "metadata": {},
   "outputs": [],
   "source": [
    "class Net(torch.nn.Module):\n",
    "    def __init__(self):\n",
    "        super().__init__()\n",
    "        # define functionals\n",
    "        self.fc1     = torch.nn.Linear(64, 100)\n",
    "        self.norm1   = torch.nn.BatchNorm1d(100)\n",
    "        self.relu1   = torch.nn.ReLU()\n",
    "        self.fc2     = torch.nn.Linear(100, 62)\n",
    "        self.softmax = torch.nn.Softmax()\n",
    "        self.sigmoid = torch.nn.Sigmoid()\n",
    "    # end def\n",
    "    \n",
    "    def forward(self, x):\n",
    "        out = self.fc1(x)\n",
    "        out = self.norm1(out)\n",
    "        out = self.relu1(out)\n",
    "        out = self.fc2(out)\n",
    "        out_p, out_v = torch.split(out, (61, 1), 1)\n",
    "        out_p = self.softmax(out_p)\n",
    "        out_v = self.sigmoid(out_v)\n",
    "        out = torch.cat((out_p, out_v), 1)\n",
    "        return out\n",
    "    # end def\n",
    "# end class"
   ]
  },
  {
   "cell_type": "markdown",
   "metadata": {},
   "source": [
    "#### Customized loss function\n",
    "The loss function takes the same form of AlphaZero"
   ]
  },
  {
   "cell_type": "code",
   "execution_count": 6,
   "metadata": {},
   "outputs": [],
   "source": [
    "def cal_err(outputs, labels):\n",
    "    # get the batch size\n",
    "    batch_n = outputs.shape[0]\n",
    "\n",
    "    move_probs, pred_vals = torch.split(outputs, (61, 1), 1)\n",
    "    search_probs, winners = torch.split(labels , (61, 1), 1)\n",
    "    pred_vals = pred_vals*2 - 1 # transform range from [0, 1] to [-1, 1]\n",
    "    \n",
    "    # compute the loss function\n",
    "    pi   = search_probs.contiguous().view(-1).float()\n",
    "    logp = torch.log(move_probs).contiguous().view(-1).float()\n",
    "    \n",
    "    err_vals  = torch.pow(pred_vals - winners, 2).sum()\n",
    "    err_probs = pi.dot(logp)\n",
    "        \n",
    "    loss = err_vals - err_probs\n",
    "    loss = loss / batch_n\n",
    "    return loss\n",
    "# end def\n",
    "\n",
    "class AlphaZERO_Loss(torch.nn.Module):        \n",
    "    def forward(self, outputs, labels):\n",
    "        loss = cal_err(outputs, labels)\n",
    "        return loss\n",
    "    # end def\n",
    "# end class"
   ]
  },
  {
   "cell_type": "markdown",
   "metadata": {},
   "source": [
    "##### Define connecting functions and variables for the network"
   ]
  },
  {
   "cell_type": "code",
   "execution_count": null,
   "metadata": {},
   "outputs": [],
   "source": [
    "label2move = {0: [0, 0], 1: [0, 1], 2: [0, 2], 3: [0, 3], 4: [0, 4], 5: [0, 5], 6: [0, 6], \n",
    "              7: [0, 7], 8: [1, 0], 9: [1, 1], 10: [1, 2], 11: [1, 3], 12: [1, 4], 13: [1, 5], \n",
    "              14: [1, 6], 15: [1, 7], 16: [2, 0], 17: [2, 1], 18: [2, 2], 19: [2, 3], 20: [2, 4], \n",
    "              21: [2, 5], 22: [2, 6], 23: [2, 7], 24: [3, 0], 25: [3, 1], 26: [3, 2], 27: [3, 5], \n",
    "              28: [3, 6], 29: [3, 7], 30: [4, 0], 31: [4, 1], 32: [4, 2], 33: [4, 5], 34: [4, 6], \n",
    "              35: [4, 7], 36: [5, 0], 37: [5, 1], 38: [5, 2], 39: [5, 3], 40: [5, 4], 41: [5, 5], \n",
    "              42: [5, 6], 43: [5, 7], 44: [6, 0], 45: [6, 1], 46: [6, 2], 47: [6, 3], 48: [6, 4], \n",
    "              49: [6, 5], 50: [6, 6], 51: [6, 7], 52: [7, 0], 53: [7, 1], 54: [7, 2], 55: [7, 3], \n",
    "              56: [7, 4], 57: [7, 5], 58: [7, 6], 59: [7, 7], 60: 'PASS'}\n",
    "move2label = {tuple(q): p for p, q in label2move.items()}\n",
    "\n",
    "def outcome2array(Y):\n",
    "    output = []\n",
    "    for i in range(len(Y)):\n",
    "        _move, _winner = Y[i]\n",
    "        _move = tuple(_move)\n",
    "        \n",
    "        out = numpy.zeros(62)\n",
    "        out[move2label[_move]] = 1\n",
    "        out[-1] = _winner\n",
    "        \n",
    "        output.append(out)\n",
    "    # end for\n",
    "    return numpy.array(output)\n",
    "# end def"
   ]
  },
  {
   "cell_type": "markdown",
   "metadata": {},
   "source": [
    "##### Define functions to read training data"
   ]
  },
  {
   "cell_type": "code",
   "execution_count": null,
   "metadata": {},
   "outputs": [],
   "source": [
    "def read_data_from_file(filename, shuffle=True):\n",
    "    with open(filename) as fin:\n",
    "        content = fin.read().splitlines()\n",
    "    # end with\n",
    "    \n",
    "    # read only black's move\n",
    "    # - note: if assume first and second movers should\n",
    "    # have the same strategy, we could revert white's \n",
    "    # color and merge the data. It is not implemented here\n",
    "    swap = []\n",
    "    for i in range(len(content)):\n",
    "        if (i % 2) == 0:\n",
    "            swap.append(content[i])\n",
    "        # end if\n",
    "    # end for\n",
    "    content = swap\n",
    "    \n",
    "    # shuffle the data\n",
    "    if shuffle:\n",
    "        random.shuffle(content)\n",
    "    # end if\n",
    "\n",
    "    X, Y = [[], []]\n",
    "#    content = content[-10:] # read only last 20 moves\n",
    "    for row in content:\n",
    "        x, y = json.loads(row)\n",
    "        X.append(x)\n",
    "        Y.append(y)\n",
    "    # end for\n",
    "\n",
    "    # convert to numpy array\n",
    "    X = numpy.array(X)\n",
    "    Y = outcome2array(Y)\n",
    "\n",
    "    return X, Y\n",
    "# end def\n",
    "\n",
    "def read_some_data(files, N=20):\n",
    "    input_data = []\n",
    "    \n",
    "    ## GET INPUT DATA ##\n",
    "    # select input files from directory randomly\n",
    "    sel_files = [random.choice(files) for _ in range(N)]\n",
    "    data = [read_data_from_file(_file) for _file in sel_files]\n",
    "    X, Y = [[], []]\n",
    "    for x, y in data:\n",
    "        X.extend(x)\n",
    "        Y.extend(y)\n",
    "    # end for\n",
    "    return X, Y\n",
    "# end def\n",
    "\n",
    "def chunks(l, n):\n",
    "    output = []\n",
    "    for i in range(0, len(l), n):\n",
    "        sel = l[i:i+n]\n",
    "        if len(sel) > 1: # bug(/feature?) of pytorch: do not accept length-one tensor\n",
    "            output.append(sel)\n",
    "        # end if\n",
    "    # end for\n",
    "    return output\n",
    "# end def"
   ]
  },
  {
   "cell_type": "markdown",
   "metadata": {},
   "source": [
    "#### Define a training epoch"
   ]
  },
  {
   "cell_type": "code",
   "execution_count": null,
   "metadata": {},
   "outputs": [],
   "source": [
    "def epoch(files, BATCH_SIZE, n=1):\n",
    "    net.train(True) # set to training mode\n",
    "    stime = time.time()\n",
    "\n",
    "    # read data\n",
    "    X, Y = read_some_data(files=files)\n",
    "    Xs = chunks(X, BATCH_SIZE)\n",
    "    Ys = chunks(Y, BATCH_SIZE)\n",
    "\n",
    "    logger.info(' - start training')\n",
    "    for _iter in range(n):\n",
    "        running_loss = 0\n",
    "        for i in range(len(Xs)):\n",
    "            inputs = torch.from_numpy(numpy.array(Xs[i])).float()\n",
    "            labels = torch.from_numpy(numpy.array(Ys[i])).float()\n",
    "            inputs = inputs.to(device)\n",
    "            labels = labels.to(device)\n",
    "\n",
    "            # zero the parameter gradients\n",
    "            optimizer.zero_grad()\n",
    "\n",
    "            # forward + backward + optimize\n",
    "            outputs = net(inputs)\n",
    "            loss = criterion(outputs, labels)\n",
    "            loss.backward()\n",
    "            optimizer.step()\n",
    "            \n",
    "            # gradient clipping ...\n",
    "            torch.nn.utils.clip_grad_norm_(net.parameters(), 0.25)\n",
    "            running_loss += loss.item()\n",
    "        # end for\n",
    "        loss = running_loss / len(Xs)\n",
    "        logger.info('[iteration %d] loss: %4.3f' % (_iter, loss))\n",
    "    # end for\n",
    "    return loss\n",
    "# end def"
   ]
  },
  {
   "cell_type": "markdown",
   "metadata": {},
   "source": [
    "#### Training parameters"
   ]
  },
  {
   "cell_type": "code",
   "execution_count": 8,
   "metadata": {},
   "outputs": [],
   "source": [
    "LEARNING_RATE = 0.01\n",
    "MOMENTUM      = 0.9\n",
    "BATCH_SIZE    = 200\n",
    "EPOCH_N       = 10"
   ]
  },
  {
   "cell_type": "markdown",
   "metadata": {},
   "source": [
    "##### Input sources and output destinations"
   ]
  },
  {
   "cell_type": "code",
   "execution_count": null,
   "metadata": {},
   "outputs": [],
   "source": [
    "indir  = 'data/labelled'\n",
    "outdir = './data/models/'\n",
    "logfilename = './result.log'"
   ]
  },
  {
   "cell_type": "markdown",
   "metadata": {},
   "source": [
    "#### Initialize the network and optimizer"
   ]
  },
  {
   "cell_type": "code",
   "execution_count": 9,
   "metadata": {},
   "outputs": [],
   "source": [
    "net = Net()\n",
    "optimizer = optim.SGD(net.parameters(), lr=LEARNING_RATE, momentum=MOMENTUM)\n",
    "criterion = AlphaZERO_Loss()"
   ]
  },
  {
   "cell_type": "code",
   "execution_count": 11,
   "metadata": {},
   "outputs": [],
   "source": [
    "# upload net to device\n",
    "device = torch.device('cuda:0' if torch.cuda.is_available() else 'cpu')\n",
    "net = net.to(device)"
   ]
  },
  {
   "cell_type": "markdown",
   "metadata": {},
   "source": [
    "#### Start training"
   ]
  },
  {
   "cell_type": "code",
   "execution_count": 23,
   "metadata": {},
   "outputs": [
    {
     "name": "stderr",
     "output_type": "stream",
     "text": [
      "/home/kuanpern/AlphaZeroOthello/dev/venv/lib/python3.6/site-packages/ipykernel_launcher.py:19: UserWarning: Implicit dimension choice for softmax has been deprecated. Change the call to include dim=X as an argument.\n"
     ]
    }
   ],
   "source": [
    "# list the training files \n",
    "files = glob.glob(indir+'/*.dat')\n",
    "\n",
    "stime = time.time()\n",
    "losses = []\n",
    "for i in range(100000):\n",
    "    loss = epoch(files, BATCH_SIZE)\n",
    "    if loss is numpy.nan:\n",
    "        logger.error('loss became nan')\n",
    "        break\n",
    "    # end if\n",
    "    \n",
    "    ###################\n",
    "    # LOSS MONITORING #\n",
    "    ###################\n",
    "    net.train(False)\n",
    "    if i % 200 == 0:\n",
    "        losses.append(loss)\n",
    "        with open(logfilename, 'a') as fout:\n",
    "            msg = 'iteration: %d | loss: %4.3f | time: %4.1f' % (i, loss, time.time()-stime)\n",
    "            fout.writelines(msg+'\\n')\n",
    "        # end with\n",
    "    # end if\n",
    "\n",
    "    ####################\n",
    "    # MODEL VERSIONING #\n",
    "    ####################\n",
    "    if i % 500 == 0:\n",
    "        name='oth_exp_pred-iter'+str(i).zfill(5)\n",
    "        # save model\n",
    "        outfile = outdir+'/'+name+'.dill'\n",
    "        with open(outfile, 'wb') as fout:\n",
    "            dill.dump(copy.deepcopy(net), fout)\n",
    "        # end with\n",
    "    # end if\n",
    "# end for"
   ]
  },
  {
   "cell_type": "markdown",
   "metadata": {},
   "source": [
    "##### Plotting the loss function over training"
   ]
  },
  {
   "cell_type": "code",
   "execution_count": 47,
   "metadata": {},
   "outputs": [
    {
     "data": {
      "image/png": "[encoded data removed]",
      "text/plain": [
       "<Figure size 432x288 with 1 Axes>"
      ]
     },
     "metadata": {
      "needs_background": "light"
     },
     "output_type": "display_data"
    }
   ],
   "source": [
    "xs = numpy.arange(len(losses)) * 200\n",
    "plt.plot(xs, losses)\n",
    "plt.xlabel('steps')\n",
    "plt.ylabel('loss')\n",
    "plt.title('Training loss');"
   ]
  },
  {
   "cell_type": "markdown",
   "metadata": {},
   "source": [
    "### Sanity checks\n",
    "\n",
    "Here we randomly picked a mid-game position and see how the network would respond."
   ]
  },
  {
   "cell_type": "code",
   "execution_count": 24,
   "metadata": {},
   "outputs": [],
   "source": [
    "_mid = [1, 1, 1, 1, 1, 1, 1, 0, 1, 1, -1, 1, -1, 1, \n",
    "        -1, 1, 1, -1, 1, -1, 1, -1, -1, 1, 1, -1, \n",
    "        -1, 1, 1, 1, -1, 1, 1, -1, 1, -1, -1, -1, -1, \n",
    "        1, 1, -1, -1, -1, -1, -1, 0, 1, 1, -1, -1, \n",
    "        -1, -1, -1, 0, 0, 0, 0, -1, -1, -1, -1, 0, 0]\n",
    "_mid = torch.from_numpy(numpy.array([_mid, _mid])).float()\n",
    "_mid = _mid.to(device)"
   ]
  },
  {
   "cell_type": "code",
   "execution_count": 78,
   "metadata": {},
   "outputs": [
    {
     "name": "stderr",
     "output_type": "stream",
     "text": [
      "/home/kuanpern/AlphaZeroOthello/dev/venv/lib/python3.6/site-packages/ipykernel_launcher.py:19: UserWarning: Implicit dimension choice for softmax has been deprecated. Change the call to include dim=X as an argument.\n"
     ]
    },
    {
     "name": "stdout",
     "output_type": "stream",
     "text": [
      "Winning probability estimate: 88.3 %\n",
      "Pass probability:  0.5 %\n"
     ]
    },
    {
     "data": {
      "image/png": "[encoded data removed]",
      "text/plain": [
       "<Figure size 864x216 with 1 Axes>"
      ]
     },
     "metadata": {
      "needs_background": "light"
     },
     "output_type": "display_data"
    }
   ],
   "source": [
    "# Extract the numbers ..\n",
    "output = net(_mid)[0].detach().cpu().numpy()\n",
    "preds, vals  = output[:-1], output[-1]\n",
    "moves, _pass = preds[:-1], preds[-1]\n",
    "\n",
    "print('Winning probability estimate: %4.1f %%' % (vals*100,))\n",
    "print('Pass probability: %4.1f %%' % (_pass*100))\n",
    "\n",
    "# Visualize the numbers\n",
    "plt.bar(range(len(moves)), moves)\n",
    "plt.xlabel('Moves')\n",
    "plt.ylabel('Probability')\n",
    "\n",
    "# labelling\n",
    "plt.xlim(-0.5, 59.5)\n",
    "move_labels = list(map(str, label2move.values()))\n",
    "plt.xticks(range(len(moves)), move_labels, rotation=90)\n",
    "plt.gcf().set_size_inches(12, 3)"
   ]
  },
  {
   "cell_type": "markdown",
   "metadata": {},
   "source": [
    "#### Visualize the board and the move probabilities"
   ]
  },
  {
   "cell_type": "code",
   "execution_count": 79,
   "metadata": {},
   "outputs": [],
   "source": [
    "board = list(_mid[0].detach().cpu().numpy())\n",
    "board = numpy.array(board)\n",
    "board = board.reshape(8, 8)"
   ]
  },
  {
   "cell_type": "code",
   "execution_count": 101,
   "metadata": {},
   "outputs": [
    {
     "data": {
      "image/png": "[encoded data removed]",
      "text/plain": [
       "<Figure size 432x288 with 1 Axes>"
      ]
     },
     "metadata": {
      "needs_background": "light"
     },
     "output_type": "display_data"
    }
   ],
   "source": [
    "for i in range(len(moves)):\n",
    "    if label2move[i] == 'PASS':\n",
    "        continue\n",
    "    p, q = label2move[i]\n",
    "    plt.text(q-0.2, p+0.2, str(int(moves[i]*100)), color='blue', fontsize=13)\n",
    "# end for\n",
    "plt.imshow(-board, cmap=plt.gray());"
   ]
  },
  {
   "cell_type": "markdown",
   "metadata": {},
   "source": [
    "* The network has not completely understood the game\n",
    "    * Network mostly avoided filled positions (assigned probability of 0), but a few still was assigned low probabiliteis (e.g. (5, 0), (6, 1), (7, 1)).\n",
    "    * Network still trying to make some illegal positions (e.g. (7, 6), (7, 7)\n",
    "* The top predictions look correct though (e.g. (0, 7), (7, 0) for the corners and (1, 7) for eng-game points taking."
   ]
  },
  {
   "cell_type": "code",
   "execution_count": null,
   "metadata": {},
   "outputs": [],
   "source": []
  },
  {
   "cell_type": "code",
   "execution_count": 88,
   "metadata": {},
   "outputs": [],
   "source": [
    "# legacy, please ignore\n",
    "'''\n",
    "def entropy(Ps, epsilon = 0.00001):\n",
    "    Ps = Ps.detach().cpu().numpy()\n",
    "\n",
    "    Ps = Ps + epsilon\n",
    "    Ps = Ps / sum(Ps)\n",
    "    return -np.dot(Ps, np.log(Ps))\n",
    "# end def\n",
    "\n",
    "import numpy as np\n",
    "_ini = [0, 0, 0, 0, 0, 0, 0, 0, 0, 0, 0, 0, 0, 0, 0, 0, 0, 0, 0, 0, 0, 0, 0, 0, 0, 0, 0, -1, 1, 0, 0, 0, 0, 0, 0, 1, -1, 0, 0, 0, 0, 0, 0, 0, 0, 0, 0, 0, 0, 0, 0, 0, 0, 0, 0, 0, 0, 0, 0, 0, 0, 0, 0, 0]\n",
    "_ini = torch.from_numpy(np.array([_ini, _ini])).float()\n",
    "_ini = _ini.to(device)\n",
    "\n",
    "_mid = [0, 0, 0, 0, 0, 0, 0, 0, 0, 0, 0, -1, 0, 0, 0, 0, -1, -1, -1, -1, -1, 0, 1, 0, 1, 0, -1, -1, -1, -1, -1, 0, 1, -1, -1, 1, 1, 1, 0, 0, 1, 1, 1, 1, 1, 1, 1, 0, 0, 0, 1, 1, -1, 1, 0, 0, 0, 0, 1, 1, 1, 1, 0, 0]\n",
    "_mid = torch.from_numpy(np.array([_mid, _mid])).float()\n",
    "_mid = _mid.to(device)\n",
    "\n",
    "            #msg = 'starter_prob: %4.3f' % (net(_ini)[0][-1]*2-1,)\n",
    "            #print(msg)\n",
    "            #fout.writelines(msg+'\\n')            \n",
    "            #msg = 'entropy: %4.3f, %4.3f' % (entropy(net(_ini)[0][:-1]), entropy(net(_mid)[0][:-1]),)\n",
    "            #print(msg)\n",
    "            #fout.writelines(msg+'\\n')            \n",
    "\n",
    "''';"
   ]
  }
 ],
 "metadata": {
  "kernelspec": {
   "display_name": "Python 3",
   "language": "python",
   "name": "python3"
  },
  "language_info": {
   "codemirror_mode": {
    "name": "ipython",
    "version": 3
   },
   "file_extension": ".py",
   "mimetype": "text/x-python",
   "name": "python",
   "nbconvert_exporter": "python",
   "pygments_lexer": "ipython3",
   "version": "3.6.7"
  }
 },
 "nbformat": 4,
 "nbformat_minor": 2
}
