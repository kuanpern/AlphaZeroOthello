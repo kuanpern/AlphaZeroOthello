{
 "cells": [
  {
   "cell_type": "code",
   "execution_count": 1,
   "metadata": {},
   "outputs": [],
   "source": [
    "# import libraries\n",
    "from MCTS.utils import *\n",
    "from MCTS.Agent import *\n",
    "from MCTS.MCTS import *\n",
    "import numpy as np"
   ]
  },
  {
   "cell_type": "code",
   "execution_count": 2,
   "metadata": {},
   "outputs": [],
   "source": [
    "import matplotlib.pyplot as plt\n",
    "%matplotlib inline"
   ]
  },
  {
   "cell_type": "code",
   "execution_count": 3,
   "metadata": {},
   "outputs": [],
   "source": [
    "# import game rule\n",
    "import rules.Othello as Othello\n",
    "OthelloGame = Othello.OthelloGame # shorthand\n",
    "\n",
    "# import data structure class here\n",
    "class OthelloDataNode(GameDataNode):\n",
    "    def __init__(self, name):\n",
    "        super().__init__(\n",
    "            Game = OthelloGame,\n",
    "            name = name\n",
    "        ) # end super\n",
    "    # end def\n",
    "# end class\n",
    "\n",
    "# import agent class here\n",
    "from MCTS.Agent import Agent\n",
    "class OthelloAgent(Agent):\n",
    "    def __init__(self, predictor):\n",
    "        super(OthelloAgent, self).__init__(\n",
    "            Game = OthelloGame,\n",
    "            predictor = predictor\n",
    "        ) # end super\n",
    "    # end def\n",
    "# end class"
   ]
  },
  {
   "cell_type": "code",
   "execution_count": 4,
   "metadata": {},
   "outputs": [],
   "source": [
    "class OthelloHelper:\n",
    "    @staticmethod\n",
    "    def new_board(board_size = (8, 8)):\n",
    "        board = np.zeros(board_size, dtype=int)\n",
    "        cur_player = 1\n",
    "\n",
    "        p, q = int(board_size[0]/2), int(board_size[1]/2)\n",
    "        board[p-1, q-1] = -1\n",
    "        board[p-1, q  ] =  1\n",
    "        board[p  , q-1] =  1\n",
    "        board[p  , q  ] = -1\n",
    "\n",
    "        return board\n",
    "    # end def\n",
    "\n",
    "    @staticmethod\n",
    "    def print_board(state, title=\"\", outfilename=None):\n",
    "        board  = state.data\n",
    "        player = state.player\n",
    "        plt.cla()\n",
    "        ax = plt.gca()\n",
    "        ax.set_yticklabels([])\n",
    "        ax.set_xticklabels([])\n",
    "        plt.xlim(0, 1)\n",
    "        plt.xlim(0, 1)\n",
    "\n",
    "        ax.set_facecolor('green')\n",
    "        step = 1. / 8\n",
    "        for i in range(9):\n",
    "            plt.axhline(step*i - step/2., color='black')\n",
    "        for i in range(9):\n",
    "            plt.axvline(step*i - step/2., color='black')\n",
    "\n",
    "        for j in range(len(board)):\n",
    "            for i in range(len(board)):\n",
    "                if board[i, j] == 0:\n",
    "                    continue\n",
    "                elif board[i, j] == 1:\n",
    "                    _ = plt.Circle((i*step, j*step), step/2.*0.9, facecolor=\"black\")\n",
    "                    ax.add_artist(_)\n",
    "                elif board[i, j] == -1:\n",
    "                    _ = plt.Circle((i*step, j*step), step/2.*0.9, facecolor='white')\n",
    "                    ax.add_artist(_)\n",
    "                # end if\n",
    "            # end for\n",
    "        # end for\n",
    "\n",
    "        plt.xlim(0-step/2., 1-step/2.)\n",
    "        plt.ylim(0-step/2., 1-step/2.)\n",
    "        plt.gcf().set_size_inches(6, 6)\n",
    "        plt.title(title)\n",
    "        if outfilename is None:\n",
    "            outfilename = str(time.time())+'.png'\n",
    "        plt.savefig(outfilename)\n",
    "    # end def\n",
    "# end class"
   ]
  },
  {
   "cell_type": "code",
   "execution_count": 5,
   "metadata": {},
   "outputs": [],
   "source": [
    "# Parameter setting\n",
    "state_memory_n = 3\n",
    "tree_depth = 3\n",
    "allowed_time = 10"
   ]
  },
  {
   "cell_type": "code",
   "execution_count": 6,
   "metadata": {},
   "outputs": [],
   "source": [
    "new_board = OthelloHelper.new_board()\n",
    "init_state = [stateType(data=new_board, player=1) for _ in range(state_memory_n)]"
   ]
  },
  {
   "cell_type": "code",
   "execution_count": 7,
   "metadata": {},
   "outputs": [
    {
     "data": {
      "text/plain": [
       "(array([[ 0,  0,  0,  0,  0,  0,  0,  0],\n",
       "        [ 0,  0,  0,  0,  0,  0,  0,  0],\n",
       "        [ 0,  0,  0,  0,  0,  0,  0,  0],\n",
       "        [ 0,  0,  0, -1,  1,  0,  0,  0],\n",
       "        [ 0,  0,  0,  1, -1,  0,  0,  0],\n",
       "        [ 0,  0,  0,  0,  0,  0,  0,  0],\n",
       "        [ 0,  0,  0,  0,  0,  0,  0,  0],\n",
       "        [ 0,  0,  0,  0,  0,  0,  0,  0]]), 1)"
      ]
     },
     "execution_count": 7,
     "metadata": {},
     "output_type": "execute_result"
    }
   ],
   "source": [
    "init_state[-1].data, init_state[-1].player"
   ]
  },
  {
   "cell_type": "code",
   "execution_count": 51,
   "metadata": {},
   "outputs": [],
   "source": [
    "# predictor object must provide a \"predict\" method that takes in game's state and return a list of ranked action\n",
    "class GreedyPredictor:\n",
    "    def __init__(self, Game, rand_factor=0.3):\n",
    "        self.Game = Game\n",
    "        self.rand_factor = rand_factor\n",
    "    # end def\n",
    "\n",
    "    def get(self, state):\n",
    "        nexts = self.Game.list_nexts(state)\n",
    "        if len(nexts) > 1:\n",
    "            # random \n",
    "            if random.random() < self.rand_factor:\n",
    "                return random.choice(nexts).action\n",
    "            # end if\n",
    "\n",
    "            # greedy\n",
    "            sorter = []\n",
    "            for item in nexts:\n",
    "                value = sum(item.state[-1].data.flatten())\n",
    "                value = value*state[-1].player\n",
    "                sorter.append([value, random.random(), item.action])\n",
    "            # end for\n",
    "            sorter.sort()\n",
    "            return sorter[-1][-1]\n",
    "        else:\n",
    "            return nexts[0].action\n",
    "        # end if\n",
    "    # end def\n",
    "# end class"
   ]
  },
  {
   "cell_type": "code",
   "execution_count": 52,
   "metadata": {},
   "outputs": [],
   "source": [
    "greedy_predictor = GreedyPredictor(OthelloGame, 0.3)\n",
    "greedy_agent = Agent(OthelloGame, greedy_predictor)"
   ]
  },
  {
   "cell_type": "code",
   "execution_count": 53,
   "metadata": {},
   "outputs": [],
   "source": [
    "output = greedy_agent.playout(init_state, max_steps=70, legal_action_check=True, legal_action_max_trials=100)"
   ]
  },
  {
   "cell_type": "code",
   "execution_count": 54,
   "metadata": {},
   "outputs": [
    {
     "data": {
      "text/plain": [
       "{'record': <MCTS.utils.GameRecord at 0x7fc1dac74438>, 'winner': -1}"
      ]
     },
     "execution_count": 54,
     "metadata": {},
     "output_type": "execute_result"
    }
   ],
   "source": [
    "output"
   ]
  },
  {
   "cell_type": "code",
   "execution_count": 59,
   "metadata": {},
   "outputs": [],
   "source": [
    "data = [item[-1] for item in output['record'].state_trace]"
   ]
  },
  {
   "cell_type": "code",
   "execution_count": 60,
   "metadata": {},
   "outputs": [
    {
     "data": {
      "image/png": "[encoded data removed]",
      "text/plain": [
       "<Figure size 432x432 with 1 Axes>"
      ]
     },
     "metadata": {
      "needs_background": "light"
     },
     "output_type": "display_data"
    }
   ],
   "source": [
    "for i in range(len(data)):\n",
    "    OthelloHelper.print_board(data[i], outfilename='out-'+str(i+1).zfill(2)+'.png')"
   ]
  },
  {
   "cell_type": "code",
   "execution_count": 65,
   "metadata": {},
   "outputs": [
    {
     "data": {
      "text/plain": [
       "-8"
      ]
     },
     "execution_count": 65,
     "metadata": {},
     "output_type": "execute_result"
    }
   ],
   "source": [
    "sum(output['record'].state_trace[-1][-1].data.flatten())"
   ]
  },
  {
   "cell_type": "code",
   "execution_count": 13,
   "metadata": {},
   "outputs": [],
   "source": [
    "runner = MCTS_Runner(OthelloDataNode, agent=rand_agent)"
   ]
  },
  {
   "cell_type": "code",
   "execution_count": 14,
   "metadata": {},
   "outputs": [],
   "source": [
    "runner.set_state(init_state)"
   ]
  },
  {
   "cell_type": "code",
   "execution_count": 15,
   "metadata": {},
   "outputs": [],
   "source": [
    "prior_node = None"
   ]
  },
  {
   "cell_type": "code",
   "execution_count": 16,
   "metadata": {},
   "outputs": [],
   "source": [
    "node_sampled = runner.start_mcts(\n",
    "  tree_depth=tree_depth, \n",
    "  allowed_time=allowed_time,\n",
    "  prior_node=prior_node\n",
    ") # end start"
   ]
  },
  {
   "cell_type": "code",
   "execution_count": 17,
   "metadata": {},
   "outputs": [
    {
     "name": "stdout",
     "output_type": "stream",
     "text": [
      "-root: 128/280\n",
      " -(2, 3): 16/43\n",
      "  -(2, 2): 17/24\n",
      "   -(2, 1): 1/5\n",
      "   -(3, 2): 0/4\n",
      "   -(4, 5): 4/9\n",
      "   -(5, 4): 1/6\n",
      "  -(2, 4): 7/14\n",
      "   -(1, 5): 2/3\n",
      "   -(2, 5): 0/2\n",
      "   -(3, 5): 2/4\n",
      "   -(4, 5): 1/3\n",
      "   -(5, 5): 0/2\n",
      "  -(4, 2): 0/5\n",
      "   -(5, 1): 1/1\n",
      "   -(5, 2): 1/1\n",
      "   -(5, 3): 1/1\n",
      "   -(5, 4): 1/1\n",
      "   -(5, 5): 1/1\n",
      " -(3, 2): 44/83\n",
      "  -(2, 2): 2/14\n",
      "   -(1, 2): 5/5\n",
      "   -(2, 3): 3/4\n",
      "   -(4, 5): 2/3\n",
      "   -(5, 4): 0/2\n",
      "  -(2, 4): 9/25\n",
      "   -(1, 5): 2/4\n",
      "   -(2, 5): 7/8\n",
      "   -(3, 5): 2/4\n",
      "   -(4, 5): 5/7\n",
      "   -(5, 5): 0/2\n",
      "  -(4, 2): 23/44\n",
      "   -(5, 1): 1/6\n",
      "   -(5, 2): 2/7\n",
      "   -(5, 3): 9/15\n",
      "   -(5, 4): 5/10\n",
      "   -(5, 5): 1/6\n",
      " -(4, 5): 29/62\n",
      "  -(3, 5): 13/24\n",
      "   -(2, 2): 1/4\n",
      "   -(2, 3): 1/4\n",
      "   -(2, 4): 3/5\n",
      "   -(2, 5): 2/5\n",
      "   -(2, 6): 4/6\n",
      "  -(5, 3): 2/10\n",
      "   -(2, 2): 3/3\n",
      "   -(3, 2): 0/1\n",
      "   -(4, 2): 1/2\n",
      "   -(5, 2): 1/2\n",
      "   -(6, 2): 2/2\n",
      "  -(5, 5): 17/28\n",
      "   -(2, 3): 2/6\n",
      "   -(3, 2): 2/6\n",
      "   -(5, 4): 2/6\n",
      "   -(6, 5): 5/10\n",
      " -(5, 4): 50/92\n",
      "  -(3, 5): 17/36\n",
      "   -(2, 2): 1/5\n",
      "   -(2, 3): 4/8\n",
      "   -(2, 4): 4/8\n",
      "   -(2, 5): 5/8\n",
      "   -(2, 6): 4/7\n",
      "  -(5, 3): 5/20\n",
      "   -(2, 2): 3/4\n",
      "   -(3, 2): 2/3\n",
      "   -(4, 2): 6/6\n",
      "   -(5, 2): 1/3\n",
      "   -(6, 2): 3/4\n",
      "  -(5, 5): 16/36\n",
      "   -(2, 3): 7/12\n",
      "   -(3, 2): 2/6\n",
      "   -(4, 5): 4/9\n",
      "   -(5, 6): 4/9\n"
     ]
    }
   ],
   "source": [
    "print(node_sampled.print_tree())"
   ]
  },
  {
   "cell_type": "code",
   "execution_count": 27,
   "metadata": {},
   "outputs": [
    {
     "data": {
      "text/plain": [
       "'(5, 4)'"
      ]
     },
     "execution_count": 27,
     "metadata": {},
     "output_type": "execute_result"
    }
   ],
   "source": [
    "chosen_node = runner.choose_node(node_sampled.children)\n",
    "chosen_node.name"
   ]
  },
  {
   "cell_type": "code",
   "execution_count": null,
   "metadata": {},
   "outputs": [],
   "source": []
  },
  {
   "cell_type": "code",
   "execution_count": null,
   "metadata": {},
   "outputs": [],
   "source": []
  }
 ],
 "metadata": {
  "kernelspec": {
   "display_name": "Python 3",
   "language": "python",
   "name": "python3"
  },
  "language_info": {
   "codemirror_mode": {
    "name": "ipython",
    "version": 3
   },
   "file_extension": ".py",
   "mimetype": "text/x-python",
   "name": "python",
   "nbconvert_exporter": "python",
   "pygments_lexer": "ipython3",
   "version": "3.5.2"
  }
 },
 "nbformat": 4,
 "nbformat_minor": 2
}
