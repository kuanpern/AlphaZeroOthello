{
 "cells": [
  {
   "cell_type": "markdown",
   "metadata": {},
   "source": [
    "## Demonstration on the usage of MCTS library"
   ]
  },
  {
   "cell_type": "markdown",
   "metadata": {},
   "source": [
    "Using a Greedy predictor"
   ]
  },
  {
   "cell_type": "code",
   "execution_count": 1,
   "metadata": {},
   "outputs": [],
   "source": [
    "# import libraries\n",
    "from MCTS.utils import *\n",
    "from MCTS.Agent import *\n",
    "from MCTS.MCTS import *"
   ]
  },
  {
   "cell_type": "code",
   "execution_count": 2,
   "metadata": {},
   "outputs": [],
   "source": [
    "%matplotlib inline"
   ]
  },
  {
   "cell_type": "markdown",
   "metadata": {},
   "source": [
    "### Import Game Rule"
   ]
  },
  {
   "cell_type": "code",
   "execution_count": 3,
   "metadata": {},
   "outputs": [],
   "source": [
    "import rules.Othello as Othello\n",
    "OthelloGame   = Othello.OthelloGame   # shorthand\n",
    "OthelloHelper = Othello.OthelloHelper # shorthand"
   ]
  },
  {
   "cell_type": "markdown",
   "metadata": {},
   "source": [
    "### Import Data Structure"
   ]
  },
  {
   "cell_type": "code",
   "execution_count": 4,
   "metadata": {},
   "outputs": [],
   "source": [
    "class OthelloDataNode(GameDataNode):\n",
    "    def __init__(self, name, Game=OthelloGame, player=1):\n",
    "        super().__init__(Game=Game, name=name, player=player)\n",
    "    # end def\n",
    "\n",
    "    def str_encode(self):\n",
    "        '''encode into a string representation'''\n",
    "        temp = []\n",
    "        for state in self.state:\n",
    "            data_str = ' '.join(shlex.split(str(state.data)))\n",
    "            temp.append(str({'data': data_str, 'player': self.player}))\n",
    "        # end for\n",
    "        return hashlib.md5(str(temp).encode()).hexdigest()\n",
    "    # end def\n",
    "# end class"
   ]
  },
  {
   "cell_type": "markdown",
   "metadata": {},
   "source": [
    "### Import and Inherit Agent class"
   ]
  },
  {
   "cell_type": "code",
   "execution_count": 5,
   "metadata": {},
   "outputs": [],
   "source": [
    "# import agent class here\n",
    "from MCTS.Agent import Agent\n",
    "class OthelloAgent(Agent):\n",
    "    def __init__(self, predictor):\n",
    "        super(OthelloAgent, self).__init__(\n",
    "            Game = OthelloGame,\n",
    "            predictor = predictor\n",
    "        ) # end super\n",
    "    # end def\n",
    "# end class"
   ]
  },
  {
   "cell_type": "markdown",
   "metadata": {},
   "source": [
    "### Simulation parameter setting"
   ]
  },
  {
   "cell_type": "code",
   "execution_count": 6,
   "metadata": {},
   "outputs": [],
   "source": [
    "state_memory_n = 3\n",
    "tree_depth   = 3\n",
    "allowed_time = 10"
   ]
  },
  {
   "cell_type": "markdown",
   "metadata": {},
   "source": [
    "#### Define intial state of the game to simulate"
   ]
  },
  {
   "cell_type": "code",
   "execution_count": 7,
   "metadata": {},
   "outputs": [],
   "source": [
    "new_board = OthelloHelper.new_board()\n",
    "init_state = [stateType(data=new_board, player=1) for _ in range(state_memory_n)]"
   ]
  },
  {
   "cell_type": "code",
   "execution_count": 8,
   "metadata": {},
   "outputs": [
    {
     "data": {
      "text/plain": [
       "(array([[ 0,  0,  0,  0,  0,  0,  0,  0],\n",
       "        [ 0,  0,  0,  0,  0,  0,  0,  0],\n",
       "        [ 0,  0,  0,  0,  0,  0,  0,  0],\n",
       "        [ 0,  0,  0, -1,  1,  0,  0,  0],\n",
       "        [ 0,  0,  0,  1, -1,  0,  0,  0],\n",
       "        [ 0,  0,  0,  0,  0,  0,  0,  0],\n",
       "        [ 0,  0,  0,  0,  0,  0,  0,  0],\n",
       "        [ 0,  0,  0,  0,  0,  0,  0,  0]]), 1)"
      ]
     },
     "execution_count": 8,
     "metadata": {},
     "output_type": "execute_result"
    }
   ],
   "source": [
    "# show the initial state\n",
    "init_state[-1].data, init_state[-1].player"
   ]
  },
  {
   "cell_type": "markdown",
   "metadata": {},
   "source": [
    "### Instantiate agent with a Greedy predictor"
   ]
  },
  {
   "cell_type": "markdown",
   "metadata": {},
   "source": [
    "#### Define a predictor class\n",
    "A predictor object must provide a \"get\" method that takes in game's state and return a list of ranked action"
   ]
  },
  {
   "cell_type": "code",
   "execution_count": 9,
   "metadata": {},
   "outputs": [],
   "source": [
    "# Define a Greedy predictor here\n",
    "class GreedyPredictor:\n",
    "    def __init__(self, Game, rand_factor=0.3):\n",
    "        self.Game = Game\n",
    "        self.rand_factor = rand_factor\n",
    "    # end def\n",
    "\n",
    "    def get(self, state):\n",
    "        nexts = self.Game.list_nexts(state)\n",
    "        if len(nexts) > 1:\n",
    "            # random \n",
    "            if random.random() < self.rand_factor:\n",
    "                return random.choice(nexts).action\n",
    "            # end if\n",
    "\n",
    "            # greedy\n",
    "            sorter = []\n",
    "            for item in nexts:\n",
    "                value = sum(item.state[-1].data.flatten())\n",
    "                value = value*state[-1].player\n",
    "                sorter.append([value, random.random(), item.action])\n",
    "            # end for\n",
    "            sorter.sort()\n",
    "            return sorter[-1][-1]\n",
    "        else:\n",
    "            return nexts[0].action\n",
    "        # end if\n",
    "    # end def\n",
    "# end class"
   ]
  },
  {
   "cell_type": "markdown",
   "metadata": {},
   "source": [
    "#### Instantiate an agent using the greedy predictor"
   ]
  },
  {
   "cell_type": "code",
   "execution_count": 10,
   "metadata": {},
   "outputs": [],
   "source": [
    "greedy_predictor = GreedyPredictor(OthelloGame)\n",
    "greedy_agent = Agent(OthelloGame, greedy_predictor)"
   ]
  },
  {
   "cell_type": "markdown",
   "metadata": {},
   "source": [
    "(note: materials below are the same as previous demo)"
   ]
  },
  {
   "cell_type": "markdown",
   "metadata": {},
   "source": [
    "###  Run a playout with the greedy agent\n",
    "(note: a playout does not involve MCTS)"
   ]
  },
  {
   "cell_type": "code",
   "execution_count": 11,
   "metadata": {},
   "outputs": [],
   "source": [
    "output = greedy_agent.playout(\n",
    "    init_state, \n",
    "    max_steps=70, \n",
    "    legal_action_check=True, \n",
    "    legal_action_max_trials=100\n",
    ")"
   ]
  },
  {
   "cell_type": "code",
   "execution_count": 12,
   "metadata": {},
   "outputs": [
    {
     "data": {
      "text/plain": [
       "{'winner': -1, 'record': <MCTS.utils.GameRecord at 0x7fc2c8e31f60>}"
      ]
     },
     "execution_count": 12,
     "metadata": {},
     "output_type": "execute_result"
    }
   ],
   "source": [
    "output"
   ]
  },
  {
   "cell_type": "markdown",
   "metadata": {},
   "source": [
    "#### Print the outcome"
   ]
  },
  {
   "cell_type": "code",
   "execution_count": 13,
   "metadata": {},
   "outputs": [
    {
     "data": {
      "image/png": "[encoded data removed]",
      "text/plain": [
       "<Figure size 576x576 with 1 Axes>"
      ]
     },
     "metadata": {
      "needs_background": "light"
     },
     "output_type": "display_data"
    }
   ],
   "source": [
    "final_state = output['record'].state_trace[-1][-1]\n",
    "OthelloHelper.print_board(final_state)"
   ]
  },
  {
   "cell_type": "markdown",
   "metadata": {},
   "source": [
    "### Define a MCTS Runner"
   ]
  },
  {
   "cell_type": "code",
   "execution_count": 15,
   "metadata": {},
   "outputs": [],
   "source": [
    "runner = MCTS_Runner(OthelloDataNode, agent=greedy_agent)"
   ]
  },
  {
   "cell_type": "markdown",
   "metadata": {},
   "source": [
    "#### Set the initial state"
   ]
  },
  {
   "cell_type": "code",
   "execution_count": 16,
   "metadata": {},
   "outputs": [],
   "source": [
    "runner.set_state(init_state)"
   ]
  },
  {
   "cell_type": "markdown",
   "metadata": {},
   "source": [
    "#### Provide the prior node "
   ]
  },
  {
   "cell_type": "code",
   "execution_count": 17,
   "metadata": {},
   "outputs": [],
   "source": [
    "# note: there is no prior node here, so we set it to None\n",
    "prior_node = None"
   ]
  },
  {
   "cell_type": "markdown",
   "metadata": {},
   "source": [
    "#### Actually start sampling"
   ]
  },
  {
   "cell_type": "code",
   "execution_count": 18,
   "metadata": {},
   "outputs": [],
   "source": [
    "sampled_node = runner.start_mcts(\n",
    "  tree_depth=tree_depth, \n",
    "  allowed_time=allowed_time,\n",
    "  prior_node=prior_node\n",
    ") # end start"
   ]
  },
  {
   "cell_type": "code",
   "execution_count": 17,
   "metadata": {},
   "outputs": [
    {
     "name": "stdout",
     "output_type": "stream",
     "text": [
      "-root: 126/260\n",
      " -(2, 3): 4/23\n",
      "  -(2, 2): 4/6\n",
      "   -(2, 1): 0/2\n",
      "   -(3, 2): 0/1\n",
      "   -(4, 5): 1/2\n",
      "   -(5, 4): 0/1\n",
      "  -(2, 4): 9/10\n",
      "   -(1, 5): 0/2\n",
      "   -(2, 5): 0/2\n",
      "   -(3, 5): 0/2\n",
      "   -(4, 5): 1/2\n",
      "   -(5, 5): 0/2\n",
      "  -(4, 2): 5/7\n",
      "   -(5, 1): 0/1\n",
      "   -(5, 2): 0/1\n",
      "   -(5, 3): 1/2\n",
      "   -(5, 4): 1/2\n",
      "   -(5, 5): 0/1\n",
      " -(3, 2): 50/92\n",
      "  -(2, 2): 9/25\n",
      "   -(1, 2): 3/5\n",
      "   -(2, 3): 2/5\n",
      "   -(4, 5): 4/6\n",
      "   -(5, 4): 7/9\n",
      "  -(2, 4): 20/39\n",
      "   -(1, 5): 2/6\n",
      "   -(2, 5): 1/5\n",
      "   -(3, 5): 2/6\n",
      "   -(4, 5): 8/13\n",
      "   -(5, 5): 4/9\n",
      "  -(4, 2): 11/28\n",
      "   -(5, 1): 3/5\n",
      "   -(5, 2): 4/6\n",
      "   -(5, 3): 4/6\n",
      "   -(5, 4): 4/6\n",
      "   -(5, 5): 2/5\n",
      " -(4, 5): 27/60\n",
      "  -(3, 5): 18/29\n",
      "   -(2, 2): 2/6\n",
      "   -(2, 3): 1/5\n",
      "   -(2, 4): 1/4\n",
      "   -(2, 5): 2/6\n",
      "   -(2, 6): 4/8\n",
      "  -(5, 3): 7/16\n",
      "   -(2, 2): 2/3\n",
      "   -(3, 2): 1/3\n",
      "   -(4, 2): 1/3\n",
      "   -(5, 2): 3/4\n",
      "   -(6, 2): 1/3\n",
      "  -(5, 5): 6/15\n",
      "   -(2, 3): 0/2\n",
      "   -(3, 2): 3/4\n",
      "   -(5, 4): 4/5\n",
      "   -(6, 5): 2/4\n",
      " -(5, 4): 44/85\n",
      "  -(3, 5): 17/34\n",
      "   -(2, 2): 7/10\n",
      "   -(2, 3): 2/6\n",
      "   -(2, 4): 1/5\n",
      "   -(2, 5): 4/8\n",
      "   -(2, 6): 1/5\n",
      "  -(5, 3): 16/34\n",
      "   -(2, 2): 5/8\n",
      "   -(3, 2): 2/6\n",
      "   -(4, 2): 3/6\n",
      "   -(5, 2): 3/6\n",
      "   -(6, 2): 5/8\n",
      "  -(5, 5): 4/17\n",
      "   -(2, 3): 2/4\n",
      "   -(3, 2): 4/5\n",
      "   -(4, 5): 1/3\n",
      "   -(5, 6): 4/5\n"
     ]
    }
   ],
   "source": [
    "print(sampled_node.print_tree())"
   ]
  },
  {
   "cell_type": "markdown",
   "metadata": {},
   "source": [
    "### Choose a node using the tree search result"
   ]
  },
  {
   "cell_type": "code",
   "execution_count": 18,
   "metadata": {},
   "outputs": [],
   "source": [
    "chosen_node = runner.choose_node(sampled_node.children)"
   ]
  },
  {
   "cell_type": "markdown",
   "metadata": {},
   "source": [
    "#### Print the action selected"
   ]
  },
  {
   "cell_type": "code",
   "execution_count": 19,
   "metadata": {},
   "outputs": [
    {
     "data": {
      "text/plain": [
       "(3, 2)"
      ]
     },
     "execution_count": 19,
     "metadata": {},
     "output_type": "execute_result"
    }
   ],
   "source": [
    "chosen_node.action"
   ]
  }
 ],
 "metadata": {
  "kernelspec": {
   "display_name": "Python 3",
   "language": "python",
   "name": "python3"
  },
  "language_info": {
   "codemirror_mode": {
    "name": "ipython",
    "version": 3
   },
   "file_extension": ".py",
   "mimetype": "text/x-python",
   "name": "python",
   "nbconvert_exporter": "python",
   "pygments_lexer": "ipython3",
   "version": "3.6.7"
  }
 },
 "nbformat": 4,
 "nbformat_minor": 2
}
