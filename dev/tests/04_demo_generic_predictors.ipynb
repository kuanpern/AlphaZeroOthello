{
 "cells": [
  {
   "cell_type": "markdown",
   "metadata": {},
   "source": [
    "## Demonstration on the usage of MCTS library"
   ]
  },
  {
   "cell_type": "markdown",
   "metadata": {},
   "source": [
    "#### Advanced usage of using a previously saved predictor and a web-based predictor\n",
    "\n",
    "As the predictor only needs to provide a \"get\" method, many implementations are possible. Here demonstrate the generic way of using the interface."
   ]
  },
  {
   "cell_type": "code",
   "execution_count": 1,
   "metadata": {},
   "outputs": [],
   "source": [
    "# import libraries\n",
    "from MCTS.utils import *\n",
    "from MCTS.Agent import *\n",
    "from MCTS.MCTS import *"
   ]
  },
  {
   "cell_type": "markdown",
   "metadata": {},
   "source": [
    "### Import Game Rule"
   ]
  },
  {
   "cell_type": "code",
   "execution_count": 2,
   "metadata": {},
   "outputs": [],
   "source": [
    "import rules.Othello as Othello\n",
    "OthelloGame   = Othello.OthelloGame   # shorthand\n",
    "OthelloHelper = Othello.OthelloHelper # shorthand"
   ]
  },
  {
   "cell_type": "markdown",
   "metadata": {},
   "source": [
    "### Import Data Structure"
   ]
  },
  {
   "cell_type": "code",
   "execution_count": 3,
   "metadata": {},
   "outputs": [],
   "source": [
    "class OthelloDataNode(GameDataNode):\n",
    "    def __init__(self, name, Game=OthelloGame, player=1):\n",
    "        super().__init__(Game=Game, name=name, player=player)\n",
    "    # end def\n",
    "\n",
    "    def str_encode(self):\n",
    "        import hashlib, shlex\n",
    "        '''encode into a string representation'''\n",
    "        temp = []\n",
    "        for state in self.state:\n",
    "            data_str = ' '.join(shlex.split(str(state.data)))\n",
    "            temp.append(str({'data': data_str, 'player': self.player}))\n",
    "        # end for\n",
    "        return hashlib.md5(str(temp).encode()).hexdigest()\n",
    "    # end def\n",
    "# end class"
   ]
  },
  {
   "cell_type": "markdown",
   "metadata": {},
   "source": [
    "### Import and Inherit Agent class"
   ]
  },
  {
   "cell_type": "code",
   "execution_count": 4,
   "metadata": {},
   "outputs": [],
   "source": [
    "# import agent class here\n",
    "from MCTS.Agent import Agent\n",
    "class OthelloAgent(Agent):\n",
    "    def __init__(self, predictor):\n",
    "        super(OthelloAgent, self).__init__(\n",
    "            Game = OthelloGame,\n",
    "            predictor = predictor\n",
    "        ) # end super\n",
    "    # end def\n",
    "# end class"
   ]
  },
  {
   "cell_type": "markdown",
   "metadata": {},
   "source": [
    "### Simulation parameter setting"
   ]
  },
  {
   "cell_type": "markdown",
   "metadata": {},
   "source": [
    "Parameters need to set for both players. We use the same set of values here."
   ]
  },
  {
   "cell_type": "code",
   "execution_count": 5,
   "metadata": {},
   "outputs": [],
   "source": [
    "state_memory_n = 3\n",
    "tree_depth   = 3\n",
    "allowed_time = 10\n",
    "\n",
    "# for player P\n",
    "tree_depth_p   = tree_depth\n",
    "allowed_time_p = allowed_time\n",
    "\n",
    "# for player Q\n",
    "tree_depth_q   = tree_depth\n",
    "allowed_time_q = allowed_time"
   ]
  },
  {
   "cell_type": "markdown",
   "metadata": {},
   "source": [
    "### Agent initialization\n",
    "Initialize \"intelligent\" agents to play the game."
   ]
  },
  {
   "cell_type": "markdown",
   "metadata": {},
   "source": [
    "#### Use a previously saved object (*.dill) as the predictor"
   ]
  },
  {
   "cell_type": "code",
   "execution_count": 6,
   "metadata": {},
   "outputs": [],
   "source": [
    "import dill\n",
    "filename = './test_predictors/greedy_predictor.dill'\n",
    "with open(filename, 'rb') as fin:\n",
    "    rand_predictor = dill.load(fin)\n",
    "# end with"
   ]
  },
  {
   "cell_type": "code",
   "execution_count": 7,
   "metadata": {},
   "outputs": [
    {
     "data": {
      "text/plain": [
       "True"
      ]
     },
     "execution_count": 7,
     "metadata": {},
     "output_type": "execute_result"
    }
   ],
   "source": [
    "# illustrate that predictor has a \"get\" method\n",
    "callable(rand_predictor.get)"
   ]
  },
  {
   "cell_type": "markdown",
   "metadata": {},
   "source": [
    "Make an agent with the predictor"
   ]
  },
  {
   "cell_type": "code",
   "execution_count": 8,
   "metadata": {},
   "outputs": [],
   "source": [
    "agent_p = Agent(OthelloGame, rand_predictor)"
   ]
  },
  {
   "cell_type": "markdown",
   "metadata": {},
   "source": [
    "#### Define a web-based predictor"
   ]
  },
  {
   "cell_type": "markdown",
   "metadata": {},
   "source": [
    "In a more general use case, it is possible to define a predictor to request prediction from a web-server. In this flavor, it is possible to parallelize the operation, and the model can be modified real-time at server-side.\n",
    "\n",
    "To use a test server for this demo, please boot it up with\n",
    "```\n",
    "$ cd test_predictors/; \n",
    "$ ../venv/bin/python greedy_pred_server.py\n",
    "```"
   ]
  },
  {
   "cell_type": "code",
   "execution_count": 9,
   "metadata": {},
   "outputs": [
    {
     "name": "stdout",
     "output_type": "stream",
     "text": [
      "b'This is a MCTS predictor interface server. Use /get to predict the next state.'\n"
     ]
    }
   ],
   "source": [
    "# make sure the server is running\n",
    "import requests\n",
    "r = requests.get('http://localhost:8080')\n",
    "print(r.content)"
   ]
  },
  {
   "cell_type": "code",
   "execution_count": 10,
   "metadata": {},
   "outputs": [],
   "source": [
    "class WebPredictor:\n",
    "    def __init__(self, url, name=None):\n",
    "        self.url  = url\n",
    "        self.name = name\n",
    "    # end def\n",
    "\n",
    "    def get(self, state):\n",
    "        import json\n",
    "        import base64\n",
    "        import dill # use dill to serialize object here for demo. In production this should be optimize.\n",
    "        import requests\n",
    "        \n",
    "        # encode state\n",
    "        state_repr = dill.dumps(state)\n",
    "        state_repr = base64.encodebytes(state_repr).decode('ascii')\n",
    "        # make prediction request\n",
    "        r = requests.post(self.url, json={'data':state_repr})\n",
    "        # note: usually error-catching follows a web-call. Here omitted.\n",
    "        # decode results\n",
    "        action_repr = r.json()['data']['action']\n",
    "        action_repr = base64.decodebytes(action_repr.encode('ascii'))\n",
    "        action = dill.loads(action_repr)\n",
    "        return action\n",
    "    # end def\n",
    "# end class"
   ]
  },
  {
   "cell_type": "code",
   "execution_count": 11,
   "metadata": {},
   "outputs": [],
   "source": [
    "url = 'http://localhost:8080/get'\n",
    "web_predictor = WebPredictor(url=url)"
   ]
  },
  {
   "cell_type": "code",
   "execution_count": 12,
   "metadata": {},
   "outputs": [
    {
     "data": {
      "text/plain": [
       "True"
      ]
     },
     "execution_count": 12,
     "metadata": {},
     "output_type": "execute_result"
    }
   ],
   "source": [
    "# illustrate that predictor has a \"get\" method\n",
    "callable(web_predictor.get)"
   ]
  },
  {
   "cell_type": "markdown",
   "metadata": {},
   "source": [
    "Make an agent with the predictor"
   ]
  },
  {
   "cell_type": "code",
   "execution_count": 13,
   "metadata": {},
   "outputs": [],
   "source": [
    "agent_q = Agent(OthelloGame, web_predictor)"
   ]
  },
  {
   "cell_type": "markdown",
   "metadata": {},
   "source": [
    "(note: materials below are the same as previous demo)"
   ]
  },
  {
   "cell_type": "markdown",
   "metadata": {},
   "source": [
    "### Define a MCTS Runners\n",
    "For both players P and Q"
   ]
  },
  {
   "cell_type": "code",
   "execution_count": 14,
   "metadata": {},
   "outputs": [],
   "source": [
    "# Instantiate runners with predictors\n",
    "runner_p = MCTS_Runner(OthelloDataNode, agent=agent_p)\n",
    "runner_q = MCTS_Runner(OthelloDataNode, agent=agent_q)"
   ]
  },
  {
   "cell_type": "markdown",
   "metadata": {},
   "source": [
    "### Instantiate a game record object"
   ]
  },
  {
   "cell_type": "code",
   "execution_count": 15,
   "metadata": {},
   "outputs": [],
   "source": [
    "game_record = GameRecord(name='tutorial')"
   ]
  },
  {
   "cell_type": "markdown",
   "metadata": {},
   "source": [
    "#### Define intial state of the game to simulate"
   ]
  },
  {
   "cell_type": "code",
   "execution_count": 16,
   "metadata": {},
   "outputs": [],
   "source": [
    "new_board = OthelloHelper.new_board()\n",
    "init_state = [stateType(data=new_board, player=1) for _ in range(state_memory_n)]"
   ]
  },
  {
   "cell_type": "markdown",
   "metadata": {},
   "source": [
    "Record the first initital state to game record"
   ]
  },
  {
   "cell_type": "code",
   "execution_count": 17,
   "metadata": {},
   "outputs": [],
   "source": [
    "game_record.append(None, init_state)"
   ]
  },
  {
   "cell_type": "markdown",
   "metadata": {},
   "source": [
    "### Actually start the playing sequence"
   ]
  },
  {
   "cell_type": "markdown",
   "metadata": {},
   "source": [
    "Black (player P) goes first. Set runner_p to initial state"
   ]
  },
  {
   "cell_type": "code",
   "execution_count": 18,
   "metadata": {},
   "outputs": [],
   "source": [
    "runner_p.set_state(init_state)"
   ]
  },
  {
   "cell_type": "code",
   "execution_count": 19,
   "metadata": {},
   "outputs": [],
   "source": [
    "# no prior node (will explain later)\n",
    "prior_node = None"
   ]
  },
  {
   "cell_type": "markdown",
   "metadata": {},
   "source": [
    "Start sampling"
   ]
  },
  {
   "cell_type": "code",
   "execution_count": 20,
   "metadata": {},
   "outputs": [],
   "source": [
    "sampled_node = runner_p.start_mcts(\n",
    "  tree_depth   = tree_depth_p, \n",
    "  allowed_time = allowed_time_p,\n",
    "  prior_node   = prior_node\n",
    ")"
   ]
  },
  {
   "cell_type": "markdown",
   "metadata": {},
   "source": [
    "Get the child nodes"
   ]
  },
  {
   "cell_type": "code",
   "execution_count": 21,
   "metadata": {},
   "outputs": [],
   "source": [
    "child_nodes = sampled_node.children"
   ]
  },
  {
   "cell_type": "code",
   "execution_count": 22,
   "metadata": {},
   "outputs": [
    {
     "name": "stdout",
     "output_type": "stream",
     "text": [
      "number of child nodes: 4\n",
      "namely: ['(2, 3)', '(3, 2)', '(4, 5)', '(5, 4)']\n"
     ]
    }
   ],
   "source": [
    "print('number of child nodes: %d' % (len(child_nodes),))\n",
    "print('namely: %s' % str([_.name for _ in child_nodes]))"
   ]
  },
  {
   "cell_type": "markdown",
   "metadata": {},
   "source": [
    "#### (Advanced) Simulation reusal\n",
    "The idea is that we should not throw away previously simulations.\n",
    "\n",
    "In player P's simulation just now, player Q's possible future actions are also already simulated (as a sub-tree). These simulation results can be stored as prior nodes for reuse in the next (or future) steps.\n",
    "\n",
    "Here we demonstrate only storing the first layer children nodes.\n",
    "\n",
    "(note: while this technique makes sense for self-play, one might want to consider if player P's simulation result is suitable to be used as prior for player Q's strategy, if they are different.)"
   ]
  },
  {
   "cell_type": "markdown",
   "metadata": {},
   "source": [
    "Note that to allow this technique to work, every node must have a key to uniquely represent its state, so that it could be stored and identified."
   ]
  },
  {
   "cell_type": "code",
   "execution_count": 23,
   "metadata": {},
   "outputs": [
    {
     "data": {
      "text/plain": [
       "'138e357d0df24da3a6ee71b3122a1abd'"
      ]
     },
     "execution_count": 23,
     "metadata": {},
     "output_type": "execute_result"
    }
   ],
   "source": [
    "child_nodes[0].str_encode()"
   ]
  },
  {
   "cell_type": "code",
   "execution_count": 24,
   "metadata": {},
   "outputs": [
    {
     "name": "stdout",
     "output_type": "stream",
     "text": [
      "name: (2, 3) | key: 138e357d0df24da3a6ee71b3122a1abd\n",
      "name: (3, 2) | key: 2ab92d0403cf6032cfdeb989c6515fd9\n",
      "name: (4, 5) | key: d0de1149a3873df6b98960b1835be433\n",
      "name: (5, 4) | key: 88c62fa98159de64e06e6d5828dbfb02\n"
     ]
    }
   ],
   "source": [
    "for node in child_nodes:\n",
    "    print('name:', node.name, '|', 'key:', node.str_encode())"
   ]
  },
  {
   "cell_type": "markdown",
   "metadata": {},
   "source": [
    "#### Initialize a repo (orderd dictionary) to record sampled nodes"
   ]
  },
  {
   "cell_type": "code",
   "execution_count": 25,
   "metadata": {},
   "outputs": [],
   "source": [
    "from collections import OrderedDict\n",
    "prior_nodes_repo = OrderedDict()"
   ]
  },
  {
   "cell_type": "markdown",
   "metadata": {},
   "source": [
    "Update to the repo"
   ]
  },
  {
   "cell_type": "code",
   "execution_count": 26,
   "metadata": {},
   "outputs": [],
   "source": [
    "for _node in child_nodes:\n",
    "    key = _node.str_encode()\n",
    "    prior_nodes_repo.update({key:  _node})\n",
    "# end for"
   ]
  },
  {
   "cell_type": "markdown",
   "metadata": {},
   "source": [
    "#### choose a node using the tree search result"
   ]
  },
  {
   "cell_type": "code",
   "execution_count": 27,
   "metadata": {},
   "outputs": [],
   "source": [
    "# by default, choose_most_visited\n",
    "sel_node = runner_p.choose_node(child_nodes)"
   ]
  },
  {
   "cell_type": "code",
   "execution_count": 28,
   "metadata": {},
   "outputs": [
    {
     "data": {
      "text/plain": [
       "(2, 3)"
      ]
     },
     "execution_count": 28,
     "metadata": {},
     "output_type": "execute_result"
    }
   ],
   "source": [
    "sel_node.action"
   ]
  },
  {
   "cell_type": "markdown",
   "metadata": {},
   "source": [
    "#### Record the action-state info to record-book"
   ]
  },
  {
   "cell_type": "code",
   "execution_count": 29,
   "metadata": {},
   "outputs": [],
   "source": [
    "game_record.append(sel_node.action, sel_node.state)"
   ]
  },
  {
   "cell_type": "markdown",
   "metadata": {},
   "source": [
    "#### Check if end-game has been reached"
   ]
  },
  {
   "cell_type": "code",
   "execution_count": 30,
   "metadata": {},
   "outputs": [],
   "source": [
    "OthelloGame.get_winner(game_record)"
   ]
  },
  {
   "cell_type": "markdown",
   "metadata": {},
   "source": [
    "Not yet (winner is None)"
   ]
  },
  {
   "cell_type": "markdown",
   "metadata": {},
   "source": [
    "### A small summary section here"
   ]
  },
  {
   "cell_type": "markdown",
   "metadata": {},
   "source": [
    "Confidence of the action will win the game"
   ]
  },
  {
   "cell_type": "code",
   "execution_count": 31,
   "metadata": {},
   "outputs": [
    {
     "name": "stdout",
     "output_type": "stream",
     "text": [
      "confidence of winning: 50.0%\n"
     ]
    }
   ],
   "source": [
    "confidence = sel_node.success / sel_node.visits\n",
    "print('confidence of winning: %4.1f%%' % (confidence*100,))"
   ]
  },
  {
   "cell_type": "markdown",
   "metadata": {},
   "source": [
    "Also have a look of all other options"
   ]
  },
  {
   "cell_type": "code",
   "execution_count": 32,
   "metadata": {},
   "outputs": [
    {
     "name": "stdout",
     "output_type": "stream",
     "text": [
      "action=(2, 3) confidence=50.0%\n",
      "action=(3, 2) confidence=36.2%\n",
      "action=(4, 5) confidence=38.5%\n",
      "action=(5, 4) confidence=38.8%\n"
     ]
    }
   ],
   "source": [
    "mcts_prob = {node.action: node.success / node.visits for node in child_nodes}\n",
    "for action, val in mcts_prob.items():\n",
    "    print('action=%s confidence=%4.1f%%' % (action, val*100,))"
   ]
  },
  {
   "cell_type": "markdown",
   "metadata": {},
   "source": [
    "### Now to white's turn\n",
    "Set the state to the selected node (by player P)"
   ]
  },
  {
   "cell_type": "code",
   "execution_count": 33,
   "metadata": {},
   "outputs": [],
   "source": [
    "runner_q.set_state(sel_node.state)"
   ]
  },
  {
   "cell_type": "markdown",
   "metadata": {},
   "source": [
    "#### See whether this node has been sampled before"
   ]
  },
  {
   "cell_type": "code",
   "execution_count": 34,
   "metadata": {},
   "outputs": [],
   "source": [
    "# get the key\n",
    "key = sel_node.str_encode()"
   ]
  },
  {
   "cell_type": "code",
   "execution_count": 35,
   "metadata": {},
   "outputs": [],
   "source": [
    "# find in the repo\n",
    "prior_node = prior_nodes_repo.get(key, None) "
   ]
  },
  {
   "cell_type": "code",
   "execution_count": 36,
   "metadata": {},
   "outputs": [
    {
     "data": {
      "text/plain": [
       "OthelloDataNode('/root/(2, 3)', Game=<class 'rules.Othello.OthelloGame'>, action=(2, 3), data={}, player=-1, state=[<MCTS.utils.stateType object at 0x7ff30f8c3240>, <MCTS.utils.stateType object at 0x7ff30f8c32e8>, <MCTS.utils.stateType object at 0x7ff30f800438>], success=55, visits=110)"
      ]
     },
     "execution_count": 36,
     "metadata": {},
     "output_type": "execute_result"
    }
   ],
   "source": [
    "prior_node"
   ]
  },
  {
   "cell_type": "code",
   "execution_count": 37,
   "metadata": {},
   "outputs": [
    {
     "name": "stdout",
     "output_type": "stream",
     "text": [
      "-(2, 3): 55/110\n",
      " -(2, 2): 10/27\n",
      "  -(2, 1): 3/6\n",
      "  -(3, 2): 1/4\n",
      "  -(4, 5): 7/9\n",
      "  -(5, 4): 5/8\n",
      " -(2, 4): 12/30\n",
      "  -(1, 5): 3/6\n",
      "  -(2, 5): 5/7\n",
      "  -(3, 5): 1/4\n",
      "  -(4, 5): 4/6\n",
      "  -(5, 5): 5/7\n",
      " -(4, 2): 29/53\n",
      "  -(5, 1): 7/13\n",
      "  -(5, 2): 5/12\n",
      "  -(5, 3): 3/9\n",
      "  -(5, 4): 5/12\n",
      "  -(5, 5): 1/7\n"
     ]
    }
   ],
   "source": [
    "print(prior_node.print_tree())"
   ]
  },
  {
   "cell_type": "markdown",
   "metadata": {},
   "source": [
    "This node has already been sampled before in previous MCTS run. Use this as the prior node."
   ]
  },
  {
   "cell_type": "markdown",
   "metadata": {},
   "source": [
    "Start sampling for player Q"
   ]
  },
  {
   "cell_type": "code",
   "execution_count": 38,
   "metadata": {},
   "outputs": [],
   "source": [
    "sampled_node = runner_q.start_mcts(\n",
    "  tree_depth   = tree_depth_q, \n",
    "  allowed_time = allowed_time_q,\n",
    "  prior_node   = prior_node\n",
    ")"
   ]
  },
  {
   "cell_type": "markdown",
   "metadata": {},
   "source": [
    "Repeat the same sequence for Q ..."
   ]
  },
  {
   "cell_type": "code",
   "execution_count": 39,
   "metadata": {},
   "outputs": [],
   "source": [
    "child_nodes = sampled_node.children\n",
    "for _node in child_nodes:\n",
    "    key = _node.str_encode()\n",
    "    prior_nodes_repo.update({key:  _node})\n",
    "# end for\n",
    "sel_node = runner_q.choose_most_visited(child_nodes)\n",
    "game_record.append(sel_node.action, sel_node.state)"
   ]
  },
  {
   "cell_type": "markdown",
   "metadata": {},
   "source": [
    "#### See if end-game has been reached"
   ]
  },
  {
   "cell_type": "code",
   "execution_count": 40,
   "metadata": {},
   "outputs": [],
   "source": [
    "winner = OthelloGame.get_winner(game_record)\n",
    "winner"
   ]
  },
  {
   "cell_type": "markdown",
   "metadata": {},
   "source": [
    "Not yet"
   ]
  },
  {
   "cell_type": "markdown",
   "metadata": {},
   "source": [
    "\n",
    "Pass back the state to player P, and repeat again, until end-game reached."
   ]
  },
  {
   "cell_type": "code",
   "execution_count": 41,
   "metadata": {},
   "outputs": [],
   "source": [
    "runner_p.set_state(sel_node.state)"
   ]
  },
  {
   "cell_type": "code",
   "execution_count": 42,
   "metadata": {},
   "outputs": [],
   "source": [
    "## ..."
   ]
  }
 ],
 "metadata": {
  "kernelspec": {
   "display_name": "Python 3",
   "language": "python",
   "name": "python3"
  },
  "language_info": {
   "codemirror_mode": {
    "name": "ipython",
    "version": 3
   },
   "file_extension": ".py",
   "mimetype": "text/x-python",
   "name": "python",
   "nbconvert_exporter": "python",
   "pygments_lexer": "ipython3",
   "version": "3.6.7"
  }
 },
 "nbformat": 4,
 "nbformat_minor": 2
}
